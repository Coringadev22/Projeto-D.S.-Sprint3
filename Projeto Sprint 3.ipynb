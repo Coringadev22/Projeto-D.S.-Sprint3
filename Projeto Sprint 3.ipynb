{
 "cells": [
  {
   "cell_type": "markdown",
   "id": "3Xg_RQfnafXz",
   "metadata": {
    "id": "3Xg_RQfnafXz"
   },
   "source": [
    "\n",
    "\n",
    "\n",
    "# Vamos encher o carrinho!"
   ]
  },
  {
   "cell_type": "markdown",
   "id": "mhIvmmkW414q",
   "metadata": {
    "id": "mhIvmmkW414q"
   },
   "source": [
    "# Introdução\n",
    "\n",
    "O Instacart é uma plataforma de entrega de supermercado onde os clientes podem fazer um pedido no supermercado e depois receber sua compra, semelhante ao funcionamento do Uber Eats e do iFood. O conjunto de dados que fornecemos foi modificado a partir do original. Reduzimos o tamanho dele para que seus cálculos sejam executados mais rapidamente e incluímos valores ausentes e duplicados. Também tivemos o cuidado de preservar as distribuições dos dados originais quando fizemos as alterações.\n",
    "\n",
    "Você precisa completar três etapas. Para cada uma delas, escreva uma breve introdução descrevendo como você pretende concluir a etapa e justifique suas decisões em parágrafos explicativos a medida que você avança na solução. Escreva também uma conclusão para resumir suas conclusões e escolhas.\n",
    "\n"
   ]
  },
  {
   "cell_type": "markdown",
   "id": "3MbyzpOQZ5Or",
   "metadata": {
    "id": "3MbyzpOQZ5Or"
   },
   "source": [
    "## Dicionário de dados\n",
    "\n",
    "Há cinco tabelas no conjunto de dados, e você vai precisar usar todas elas para pré-processar seus dados e fazer AED. Abaixo está um dicionário que lista as colunas de cada tabela e descreve os dados contidos nelas.\n",
    "\n",
    "- `instacart_orders.csv`: cada linha corresponde a um pedido no aplicativo da Instacart\n",
    "    - `'order_id'`: é o número que identifica cada pedido de forma exclusiva\n",
    "    - `'user_id'`: é o número de identificação exclusivo da conta de cada cliente\n",
    "    - `'order_number'`: é o número de vezes que o cliente fez um pedido\n",
    "    - `'order_dow'`: é o dia da semana em que o pedido foi feito (0 é domingo)\n",
    "    - `'order_hour_of_day'`: é a hora do dia em que o pedido foi feito\n",
    "    - `'days_since_prior_order'`: é o número de dias desde que o cliente fez seu pedido anterior\n",
    "\n",
    "\n",
    "\n",
    "\n",
    "- `products.csv`: cada linha corresponde a um produto exclusivo que os clientes podem comprar\n",
    "    - `'product_id'`: é o número de identificação unívoco de cada produto\n",
    "    - `'product_name'`: é o nome do produto\n",
    "    - `'aisle_id'`: é o número de identificação exclusivo de cada categoria de corredor do supermercado\n",
    "    - `'department_id'`: é o número de identificação exclusivo de cada categoria de departamento do supermercado\n",
    "\n",
    "\n",
    "\n",
    "\n",
    "-\t`order_products.csv`: cada linha corresponde a um item incluído em um pedido\n",
    "    -\t`'order_id'`: é o número que identifica cada pedido de forma exclusiva\n",
    "    -\t`'product_id'`: é o número de identificação exclusivo de cada produto\n",
    "    -\t`'add_to_cart_order'`: é a ordem sequencial em que cada item foi colocado no carrinho\n",
    "    -\t`'reordered'`: 0 se o cliente nunca comprou o produto antes, 1 se já o comprou\n",
    "\n",
    "\n",
    "\n",
    "\n",
    "-\t`aisles.csv`\n",
    "    -\t`'aisle_id'`: é o número de identificação exclusivo de cada categoria de corredor do supermercado\n",
    "    -\t`'aisle'`: é o nome do corredor\n",
    "\n",
    "\n",
    "\n",
    "-\t`departments.csv`\n",
    "    -\t`'department_id'`: é o número de identificação exclusivo de cada categoria de departamento do supermercado\n",
    "    -\t`'department'`: é o nome do departamento\n"
   ]
  },
  {
   "cell_type": "markdown",
   "id": "n3Ha_cNSZ8lK",
   "metadata": {
    "id": "n3Ha_cNSZ8lK"
   },
   "source": [
    "# Etapa 1. Visão geral dos dados\n",
    "\n",
    "Leia os arquivos de dados (/datasets/instacart_orders.csv, /datasets/products.csv, /datasets/aisles.csv, /datasets/departments.csv e /datasets/order_products.csv) com `pd.read_csv()` usando os parâmetros apropriados para fazer isso corretamente. Verifique as informações para cada DataFrame criado.\n"
   ]
  },
  {
   "cell_type": "markdown",
   "id": "OmlQPLlyaAfR",
   "metadata": {
    "id": "OmlQPLlyaAfR"
   },
   "source": [
    "## Plano de solução\n",
    "\n",
    "Escreva aqui seu plano para a Etapa 2. Visão geral dos dados"
   ]
  },
  {
   "cell_type": "code",
   "execution_count": 56,
   "id": "fbf1adab",
   "metadata": {
    "id": "fbf1adab"
   },
   "outputs": [],
   "source": [
    "# Importe as bibliotecas\n",
    "import pandas as pd\n",
    "import numpy as np\n",
    "import matplotlib.pyplot as plt\n",
    "import seaborn as sns\n",
    "\n",
    "\n"
   ]
  },
  {
   "cell_type": "code",
   "execution_count": 57,
   "id": "ad36396d",
   "metadata": {
    "id": "ad36396d"
   },
   "outputs": [],
   "source": [
    "# leia os conjuntos de dados em DataFrames\n",
    "df_products = pd.read_csv('products (1).csv', sep=';')\n",
    "df_inscart_orders = pd.read_csv('instacart_orders.csv', sep=';')\n",
    "\n",
    "\n",
    "df_aisles = pd.read_csv('aisles.csv', sep=';')\n",
    "df_departments = pd.read_csv('departments.csv', sep=';')\n",
    "df_orders_products = pd.read_csv('order_products.csv.zip', compression='zip', sep=';')"
   ]
  },
  {
   "cell_type": "code",
   "execution_count": 58,
   "id": "ad6a1efa",
   "metadata": {
    "id": "ad6a1efa"
   },
   "outputs": [
    {
     "name": "stdout",
     "output_type": "stream",
     "text": [
      "<class 'pandas.core.frame.DataFrame'>\n",
      "RangeIndex: 49694 entries, 0 to 49693\n",
      "Data columns (total 4 columns):\n",
      " #   Column         Non-Null Count  Dtype \n",
      "---  ------         --------------  ----- \n",
      " 0   product_id     49694 non-null  int64 \n",
      " 1   product_name   48436 non-null  object\n",
      " 2   aisle_id       49694 non-null  int64 \n",
      " 3   department_id  49694 non-null  int64 \n",
      "dtypes: int64(3), object(1)\n",
      "memory usage: 1.5+ MB\n"
     ]
    }
   ],
   "source": [
    "# imprima as informações sobre o DataFrame\n",
    "\n",
    "df_products.info()\n",
    "#valores nulos 1258 e nnenhum duplicado\n"
   ]
  },
  {
   "cell_type": "code",
   "execution_count": 59,
   "id": "5130e05e",
   "metadata": {
    "id": "5130e05e"
   },
   "outputs": [
    {
     "data": {
      "application/vnd.microsoft.datawrangler.viewer.v0+json": {
       "columns": [
        {
         "name": "index",
         "rawType": "int64",
         "type": "integer"
        },
        {
         "name": "order_id",
         "rawType": "int64",
         "type": "integer"
        },
        {
         "name": "user_id",
         "rawType": "int64",
         "type": "integer"
        },
        {
         "name": "order_number",
         "rawType": "int64",
         "type": "integer"
        },
        {
         "name": "order_dow",
         "rawType": "int64",
         "type": "integer"
        },
        {
         "name": "order_hour_of_day",
         "rawType": "int64",
         "type": "integer"
        },
        {
         "name": "days_since_prior_order",
         "rawType": "float64",
         "type": "float"
        }
       ],
       "conversionMethod": "pd.DataFrame",
       "ref": "a605a3c0-9eaa-4326-a1c2-7b38e91a9d82",
       "rows": [
        [
         "0",
         "1515936",
         "183418",
         "11",
         "6",
         "13",
         "30.0"
        ],
        [
         "1",
         "1690866",
         "163593",
         "5",
         "5",
         "12",
         "9.0"
        ],
        [
         "2",
         "1454967",
         "39980",
         "4",
         "5",
         "19",
         "2.0"
        ],
        [
         "3",
         "1768857",
         "82516",
         "56",
         "0",
         "20",
         "10.0"
        ],
        [
         "4",
         "3007858",
         "196724",
         "2",
         "4",
         "12",
         "17.0"
        ]
       ],
       "shape": {
        "columns": 6,
        "rows": 5
       }
      },
      "text/html": [
       "<div>\n",
       "<style scoped>\n",
       "    .dataframe tbody tr th:only-of-type {\n",
       "        vertical-align: middle;\n",
       "    }\n",
       "\n",
       "    .dataframe tbody tr th {\n",
       "        vertical-align: top;\n",
       "    }\n",
       "\n",
       "    .dataframe thead th {\n",
       "        text-align: right;\n",
       "    }\n",
       "</style>\n",
       "<table border=\"1\" class=\"dataframe\">\n",
       "  <thead>\n",
       "    <tr style=\"text-align: right;\">\n",
       "      <th></th>\n",
       "      <th>order_id</th>\n",
       "      <th>user_id</th>\n",
       "      <th>order_number</th>\n",
       "      <th>order_dow</th>\n",
       "      <th>order_hour_of_day</th>\n",
       "      <th>days_since_prior_order</th>\n",
       "    </tr>\n",
       "  </thead>\n",
       "  <tbody>\n",
       "    <tr>\n",
       "      <th>0</th>\n",
       "      <td>1515936</td>\n",
       "      <td>183418</td>\n",
       "      <td>11</td>\n",
       "      <td>6</td>\n",
       "      <td>13</td>\n",
       "      <td>30.0</td>\n",
       "    </tr>\n",
       "    <tr>\n",
       "      <th>1</th>\n",
       "      <td>1690866</td>\n",
       "      <td>163593</td>\n",
       "      <td>5</td>\n",
       "      <td>5</td>\n",
       "      <td>12</td>\n",
       "      <td>9.0</td>\n",
       "    </tr>\n",
       "    <tr>\n",
       "      <th>2</th>\n",
       "      <td>1454967</td>\n",
       "      <td>39980</td>\n",
       "      <td>4</td>\n",
       "      <td>5</td>\n",
       "      <td>19</td>\n",
       "      <td>2.0</td>\n",
       "    </tr>\n",
       "    <tr>\n",
       "      <th>3</th>\n",
       "      <td>1768857</td>\n",
       "      <td>82516</td>\n",
       "      <td>56</td>\n",
       "      <td>0</td>\n",
       "      <td>20</td>\n",
       "      <td>10.0</td>\n",
       "    </tr>\n",
       "    <tr>\n",
       "      <th>4</th>\n",
       "      <td>3007858</td>\n",
       "      <td>196724</td>\n",
       "      <td>2</td>\n",
       "      <td>4</td>\n",
       "      <td>12</td>\n",
       "      <td>17.0</td>\n",
       "    </tr>\n",
       "  </tbody>\n",
       "</table>\n",
       "</div>"
      ],
      "text/plain": [
       "   order_id  user_id  order_number  order_dow  order_hour_of_day  \\\n",
       "0   1515936   183418            11          6                 13   \n",
       "1   1690866   163593             5          5                 12   \n",
       "2   1454967    39980             4          5                 19   \n",
       "3   1768857    82516            56          0                 20   \n",
       "4   3007858   196724             2          4                 12   \n",
       "\n",
       "   days_since_prior_order  \n",
       "0                    30.0  \n",
       "1                     9.0  \n",
       "2                     2.0  \n",
       "3                    10.0  \n",
       "4                    17.0  "
      ]
     },
     "execution_count": 59,
     "metadata": {},
     "output_type": "execute_result"
    }
   ],
   "source": [
    "# imprima as informações sobre o DataFrame\n",
    "\n",
    "df_inscart_orders.head()\n",
    "\n",
    "\n",
    "#valores nulos 28819 e 15 duplicados, obs: valor de order_hour e int***"
   ]
  },
  {
   "cell_type": "code",
   "execution_count": 60,
   "id": "d8370c05",
   "metadata": {
    "id": "d8370c05"
   },
   "outputs": [
    {
     "name": "stdout",
     "output_type": "stream",
     "text": [
      "<class 'pandas.core.frame.DataFrame'>\n",
      "RangeIndex: 134 entries, 0 to 133\n",
      "Data columns (total 2 columns):\n",
      " #   Column    Non-Null Count  Dtype \n",
      "---  ------    --------------  ----- \n",
      " 0   aisle_id  134 non-null    int64 \n",
      " 1   aisle     134 non-null    object\n",
      "dtypes: int64(1), object(1)\n",
      "memory usage: 2.2+ KB\n"
     ]
    }
   ],
   "source": [
    "# imprima as informações sobre o DataFrame\n",
    "\n",
    "df_aisles.info()\n",
    "\n",
    "#nao tem valores nulos e nem duplicados, dtypes ok!"
   ]
  },
  {
   "cell_type": "code",
   "execution_count": 61,
   "id": "59e2090f",
   "metadata": {
    "id": "59e2090f"
   },
   "outputs": [
    {
     "name": "stdout",
     "output_type": "stream",
     "text": [
      "<class 'pandas.core.frame.DataFrame'>\n",
      "RangeIndex: 4545007 entries, 0 to 4545006\n",
      "Data columns (total 4 columns):\n",
      " #   Column             Dtype  \n",
      "---  ------             -----  \n",
      " 0   order_id           int64  \n",
      " 1   product_id         int64  \n",
      " 2   add_to_cart_order  float64\n",
      " 3   reordered          int64  \n",
      "dtypes: float64(1), int64(3)\n",
      "memory usage: 138.7 MB\n"
     ]
    },
    {
     "data": {
      "application/vnd.microsoft.datawrangler.viewer.v0+json": {
       "columns": [
        {
         "name": "index",
         "rawType": "int64",
         "type": "integer"
        },
        {
         "name": "order_id",
         "rawType": "int64",
         "type": "integer"
        },
        {
         "name": "product_id",
         "rawType": "int64",
         "type": "integer"
        },
        {
         "name": "add_to_cart_order",
         "rawType": "float64",
         "type": "float"
        },
        {
         "name": "reordered",
         "rawType": "int64",
         "type": "integer"
        }
       ],
       "conversionMethod": "pd.DataFrame",
       "ref": "c29b3d07-e17a-40ab-9ef0-3b5dd5575c01",
       "rows": [
        [
         "0",
         "2141543",
         "11440",
         "17.0",
         "0"
        ],
        [
         "1",
         "567889",
         "1560",
         "1.0",
         "1"
        ],
        [
         "2",
         "2261212",
         "26683",
         "1.0",
         "1"
        ],
        [
         "3",
         "491251",
         "8670",
         "35.0",
         "1"
        ],
        [
         "4",
         "2571142",
         "1940",
         "5.0",
         "1"
        ]
       ],
       "shape": {
        "columns": 4,
        "rows": 5
       }
      },
      "text/html": [
       "<div>\n",
       "<style scoped>\n",
       "    .dataframe tbody tr th:only-of-type {\n",
       "        vertical-align: middle;\n",
       "    }\n",
       "\n",
       "    .dataframe tbody tr th {\n",
       "        vertical-align: top;\n",
       "    }\n",
       "\n",
       "    .dataframe thead th {\n",
       "        text-align: right;\n",
       "    }\n",
       "</style>\n",
       "<table border=\"1\" class=\"dataframe\">\n",
       "  <thead>\n",
       "    <tr style=\"text-align: right;\">\n",
       "      <th></th>\n",
       "      <th>order_id</th>\n",
       "      <th>product_id</th>\n",
       "      <th>add_to_cart_order</th>\n",
       "      <th>reordered</th>\n",
       "    </tr>\n",
       "  </thead>\n",
       "  <tbody>\n",
       "    <tr>\n",
       "      <th>0</th>\n",
       "      <td>2141543</td>\n",
       "      <td>11440</td>\n",
       "      <td>17.0</td>\n",
       "      <td>0</td>\n",
       "    </tr>\n",
       "    <tr>\n",
       "      <th>1</th>\n",
       "      <td>567889</td>\n",
       "      <td>1560</td>\n",
       "      <td>1.0</td>\n",
       "      <td>1</td>\n",
       "    </tr>\n",
       "    <tr>\n",
       "      <th>2</th>\n",
       "      <td>2261212</td>\n",
       "      <td>26683</td>\n",
       "      <td>1.0</td>\n",
       "      <td>1</td>\n",
       "    </tr>\n",
       "    <tr>\n",
       "      <th>3</th>\n",
       "      <td>491251</td>\n",
       "      <td>8670</td>\n",
       "      <td>35.0</td>\n",
       "      <td>1</td>\n",
       "    </tr>\n",
       "    <tr>\n",
       "      <th>4</th>\n",
       "      <td>2571142</td>\n",
       "      <td>1940</td>\n",
       "      <td>5.0</td>\n",
       "      <td>1</td>\n",
       "    </tr>\n",
       "  </tbody>\n",
       "</table>\n",
       "</div>"
      ],
      "text/plain": [
       "   order_id  product_id  add_to_cart_order  reordered\n",
       "0   2141543       11440               17.0          0\n",
       "1    567889        1560                1.0          1\n",
       "2   2261212       26683                1.0          1\n",
       "3    491251        8670               35.0          1\n",
       "4   2571142        1940                5.0          1"
      ]
     },
     "execution_count": 61,
     "metadata": {},
     "output_type": "execute_result"
    }
   ],
   "source": [
    "# imprima as informações sobre o DataFrame\n",
    "df_orders_products.info()\n",
    "df_orders_products.head()\n",
    "\n",
    "#valores nulos 836,  duplicados 0, dtypes ok!"
   ]
  },
  {
   "cell_type": "code",
   "execution_count": 62,
   "id": "6fc81694",
   "metadata": {
    "id": "6fc81694"
   },
   "outputs": [
    {
     "data": {
      "text/plain": [
       "department_id     int64\n",
       "department       object\n",
       "dtype: object"
      ]
     },
     "execution_count": 62,
     "metadata": {},
     "output_type": "execute_result"
    }
   ],
   "source": [
    "# imprima as informações sobre o DataFrame\n",
    "\n",
    "df_departments.dtypes\n",
    "#nao tem valores nulos e tambem nao tem duplicados, dtypes ok!"
   ]
  },
  {
   "cell_type": "markdown",
   "id": "t75BD19oaR5f",
   "metadata": {
    "id": "t75BD19oaR5f"
   },
   "source": [
    "## Conclusões\n",
    "\n",
    "Escreva aqui suas conclusões intermediárias da Etapa 1. Visão geral dos dados"
   ]
  },
  {
   "cell_type": "markdown",
   "id": "299568fb",
   "metadata": {},
   "source": [
    "Tem alguns dataframes com valores nulos a serem tratados, tambem com duplicados. os dtypes ate entao estao ok, preciso verifica se order hour que e int vai me atrapalhar XD "
   ]
  },
  {
   "cell_type": "markdown",
   "id": "8RJHqxVmaVsF",
   "metadata": {
    "id": "8RJHqxVmaVsF"
   },
   "source": [
    "# Etapa 2. Preparação de dados\n",
    "\n",
    "Faça o pré-processamento dos dados da seguinte maneira:\n",
    "\n",
    "-\tVerifique e corrija os tipos de dados (por exemplo, certifique-se de que as colunas de ID sejam números inteiros)\n",
    "-\tIdentifique e preencha valores ausentes\n",
    "-\tIdentifique e remova valores duplicados\n",
    "\n",
    "Certifique-se de explicar que tipos de valores ausentes e duplicados você encontrou, como você os preencheu ou removeu, por que escolheu esses métodos e por que você acha que esses valores ausentes e duplicados estavam presentes no conjunto de dados."
   ]
  },
  {
   "cell_type": "markdown",
   "id": "p6poABZQaZYb",
   "metadata": {
    "id": "p6poABZQaZYb"
   },
   "source": [
    "## Plano de solução\n",
    "\n",
    "Escreva aqui seu plano para a Etapa 2. Preparação de dados"
   ]
  },
  {
   "cell_type": "markdown",
   "id": "07357848-dc64-4156-9cc3-01ff4365226d",
   "metadata": {
    "id": "07357848-dc64-4156-9cc3-01ff4365226d"
   },
   "source": [
    "## Encontre e remova valores duplicados (e descreva por que você está fazendo suas escolhas)"
   ]
  },
  {
   "cell_type": "markdown",
   "id": "f179f0a9",
   "metadata": {
    "id": "f179f0a9"
   },
   "source": [
    "### DataFrame `instacart_orders`"
   ]
  },
  {
   "cell_type": "code",
   "execution_count": 63,
   "id": "b99297a5-405a-463d-8535-9adc3da4ad74",
   "metadata": {
    "id": "b99297a5-405a-463d-8535-9adc3da4ad74"
   },
   "outputs": [
    {
     "data": {
      "application/vnd.microsoft.datawrangler.viewer.v0+json": {
       "columns": [
        {
         "name": "index",
         "rawType": "int64",
         "type": "integer"
        },
        {
         "name": "order_id",
         "rawType": "int64",
         "type": "integer"
        },
        {
         "name": "user_id",
         "rawType": "int64",
         "type": "integer"
        },
        {
         "name": "order_number",
         "rawType": "int64",
         "type": "integer"
        },
        {
         "name": "order_dow",
         "rawType": "int64",
         "type": "integer"
        },
        {
         "name": "order_hour_of_day",
         "rawType": "int64",
         "type": "integer"
        },
        {
         "name": "days_since_prior_order",
         "rawType": "float64",
         "type": "float"
        }
       ],
       "conversionMethod": "pd.DataFrame",
       "ref": "c6c41949-067c-49e6-8952-b86fdcd7401d",
       "rows": [
        [
         "145574",
         "794638",
         "50898",
         "24",
         "3",
         "2",
         "2.0"
        ],
        [
         "223105",
         "2160484",
         "107525",
         "16",
         "3",
         "2",
         "30.0"
        ],
        [
         "230807",
         "1918001",
         "188546",
         "14",
         "3",
         "2",
         "16.0"
        ],
        [
         "266232",
         "1782114",
         "106752",
         "1",
         "3",
         "2",
         null
        ],
        [
         "273805",
         "1112182",
         "202304",
         "84",
         "3",
         "2",
         "6.0"
        ],
        [
         "284038",
         "2845099",
         "31189",
         "11",
         "3",
         "2",
         "7.0"
        ],
        [
         "311713",
         "1021560",
         "53767",
         "3",
         "3",
         "2",
         "9.0"
        ],
        [
         "321100",
         "408114",
         "68324",
         "4",
         "3",
         "2",
         "18.0"
        ],
        [
         "323900",
         "1919531",
         "191501",
         "32",
         "3",
         "2",
         "7.0"
        ],
        [
         "345917",
         "2232988",
         "82565",
         "1",
         "3",
         "2",
         null
        ],
        [
         "371905",
         "391768",
         "57671",
         "19",
         "3",
         "2",
         "10.0"
        ],
        [
         "394347",
         "467134",
         "63189",
         "21",
         "3",
         "2",
         "2.0"
        ],
        [
         "411408",
         "1286742",
         "183220",
         "48",
         "3",
         "2",
         "4.0"
        ],
        [
         "415163",
         "2282673",
         "86751",
         "49",
         "3",
         "2",
         "2.0"
        ],
        [
         "441599",
         "2125197",
         "14050",
         "48",
         "3",
         "2",
         "3.0"
        ]
       ],
       "shape": {
        "columns": 6,
        "rows": 15
       }
      },
      "text/html": [
       "<div>\n",
       "<style scoped>\n",
       "    .dataframe tbody tr th:only-of-type {\n",
       "        vertical-align: middle;\n",
       "    }\n",
       "\n",
       "    .dataframe tbody tr th {\n",
       "        vertical-align: top;\n",
       "    }\n",
       "\n",
       "    .dataframe thead th {\n",
       "        text-align: right;\n",
       "    }\n",
       "</style>\n",
       "<table border=\"1\" class=\"dataframe\">\n",
       "  <thead>\n",
       "    <tr style=\"text-align: right;\">\n",
       "      <th></th>\n",
       "      <th>order_id</th>\n",
       "      <th>user_id</th>\n",
       "      <th>order_number</th>\n",
       "      <th>order_dow</th>\n",
       "      <th>order_hour_of_day</th>\n",
       "      <th>days_since_prior_order</th>\n",
       "    </tr>\n",
       "  </thead>\n",
       "  <tbody>\n",
       "    <tr>\n",
       "      <th>145574</th>\n",
       "      <td>794638</td>\n",
       "      <td>50898</td>\n",
       "      <td>24</td>\n",
       "      <td>3</td>\n",
       "      <td>2</td>\n",
       "      <td>2.0</td>\n",
       "    </tr>\n",
       "    <tr>\n",
       "      <th>223105</th>\n",
       "      <td>2160484</td>\n",
       "      <td>107525</td>\n",
       "      <td>16</td>\n",
       "      <td>3</td>\n",
       "      <td>2</td>\n",
       "      <td>30.0</td>\n",
       "    </tr>\n",
       "    <tr>\n",
       "      <th>230807</th>\n",
       "      <td>1918001</td>\n",
       "      <td>188546</td>\n",
       "      <td>14</td>\n",
       "      <td>3</td>\n",
       "      <td>2</td>\n",
       "      <td>16.0</td>\n",
       "    </tr>\n",
       "    <tr>\n",
       "      <th>266232</th>\n",
       "      <td>1782114</td>\n",
       "      <td>106752</td>\n",
       "      <td>1</td>\n",
       "      <td>3</td>\n",
       "      <td>2</td>\n",
       "      <td>NaN</td>\n",
       "    </tr>\n",
       "    <tr>\n",
       "      <th>273805</th>\n",
       "      <td>1112182</td>\n",
       "      <td>202304</td>\n",
       "      <td>84</td>\n",
       "      <td>3</td>\n",
       "      <td>2</td>\n",
       "      <td>6.0</td>\n",
       "    </tr>\n",
       "    <tr>\n",
       "      <th>284038</th>\n",
       "      <td>2845099</td>\n",
       "      <td>31189</td>\n",
       "      <td>11</td>\n",
       "      <td>3</td>\n",
       "      <td>2</td>\n",
       "      <td>7.0</td>\n",
       "    </tr>\n",
       "    <tr>\n",
       "      <th>311713</th>\n",
       "      <td>1021560</td>\n",
       "      <td>53767</td>\n",
       "      <td>3</td>\n",
       "      <td>3</td>\n",
       "      <td>2</td>\n",
       "      <td>9.0</td>\n",
       "    </tr>\n",
       "    <tr>\n",
       "      <th>321100</th>\n",
       "      <td>408114</td>\n",
       "      <td>68324</td>\n",
       "      <td>4</td>\n",
       "      <td>3</td>\n",
       "      <td>2</td>\n",
       "      <td>18.0</td>\n",
       "    </tr>\n",
       "    <tr>\n",
       "      <th>323900</th>\n",
       "      <td>1919531</td>\n",
       "      <td>191501</td>\n",
       "      <td>32</td>\n",
       "      <td>3</td>\n",
       "      <td>2</td>\n",
       "      <td>7.0</td>\n",
       "    </tr>\n",
       "    <tr>\n",
       "      <th>345917</th>\n",
       "      <td>2232988</td>\n",
       "      <td>82565</td>\n",
       "      <td>1</td>\n",
       "      <td>3</td>\n",
       "      <td>2</td>\n",
       "      <td>NaN</td>\n",
       "    </tr>\n",
       "    <tr>\n",
       "      <th>371905</th>\n",
       "      <td>391768</td>\n",
       "      <td>57671</td>\n",
       "      <td>19</td>\n",
       "      <td>3</td>\n",
       "      <td>2</td>\n",
       "      <td>10.0</td>\n",
       "    </tr>\n",
       "    <tr>\n",
       "      <th>394347</th>\n",
       "      <td>467134</td>\n",
       "      <td>63189</td>\n",
       "      <td>21</td>\n",
       "      <td>3</td>\n",
       "      <td>2</td>\n",
       "      <td>2.0</td>\n",
       "    </tr>\n",
       "    <tr>\n",
       "      <th>411408</th>\n",
       "      <td>1286742</td>\n",
       "      <td>183220</td>\n",
       "      <td>48</td>\n",
       "      <td>3</td>\n",
       "      <td>2</td>\n",
       "      <td>4.0</td>\n",
       "    </tr>\n",
       "    <tr>\n",
       "      <th>415163</th>\n",
       "      <td>2282673</td>\n",
       "      <td>86751</td>\n",
       "      <td>49</td>\n",
       "      <td>3</td>\n",
       "      <td>2</td>\n",
       "      <td>2.0</td>\n",
       "    </tr>\n",
       "    <tr>\n",
       "      <th>441599</th>\n",
       "      <td>2125197</td>\n",
       "      <td>14050</td>\n",
       "      <td>48</td>\n",
       "      <td>3</td>\n",
       "      <td>2</td>\n",
       "      <td>3.0</td>\n",
       "    </tr>\n",
       "  </tbody>\n",
       "</table>\n",
       "</div>"
      ],
      "text/plain": [
       "        order_id  user_id  order_number  order_dow  order_hour_of_day  \\\n",
       "145574    794638    50898            24          3                  2   \n",
       "223105   2160484   107525            16          3                  2   \n",
       "230807   1918001   188546            14          3                  2   \n",
       "266232   1782114   106752             1          3                  2   \n",
       "273805   1112182   202304            84          3                  2   \n",
       "284038   2845099    31189            11          3                  2   \n",
       "311713   1021560    53767             3          3                  2   \n",
       "321100    408114    68324             4          3                  2   \n",
       "323900   1919531   191501            32          3                  2   \n",
       "345917   2232988    82565             1          3                  2   \n",
       "371905    391768    57671            19          3                  2   \n",
       "394347    467134    63189            21          3                  2   \n",
       "411408   1286742   183220            48          3                  2   \n",
       "415163   2282673    86751            49          3                  2   \n",
       "441599   2125197    14050            48          3                  2   \n",
       "\n",
       "        days_since_prior_order  \n",
       "145574                     2.0  \n",
       "223105                    30.0  \n",
       "230807                    16.0  \n",
       "266232                     NaN  \n",
       "273805                     6.0  \n",
       "284038                     7.0  \n",
       "311713                     9.0  \n",
       "321100                    18.0  \n",
       "323900                     7.0  \n",
       "345917                     NaN  \n",
       "371905                    10.0  \n",
       "394347                     2.0  \n",
       "411408                     4.0  \n",
       "415163                     2.0  \n",
       "441599                     3.0  "
      ]
     },
     "execution_count": 63,
     "metadata": {},
     "output_type": "execute_result"
    }
   ],
   "source": [
    "# Verificar se há pedidos duplicados\n",
    "df_inscart_orders[df_inscart_orders.duplicated()]\n"
   ]
  },
  {
   "cell_type": "markdown",
   "id": "PEkwUX_gvt5A",
   "metadata": {
    "id": "PEkwUX_gvt5A"
   },
   "source": [
    "Há linhas duplicadas? Se sim, o que elas têm em comum?"
   ]
  },
  {
   "cell_type": "code",
   "execution_count": 64,
   "id": "0d44de5d",
   "metadata": {
    "id": "0d44de5d"
   },
   "outputs": [
    {
     "data": {
      "application/vnd.microsoft.datawrangler.viewer.v0+json": {
       "columns": [
        {
         "name": "index",
         "rawType": "int64",
         "type": "integer"
        },
        {
         "name": "order_id",
         "rawType": "int64",
         "type": "integer"
        },
        {
         "name": "user_id",
         "rawType": "int64",
         "type": "integer"
        },
        {
         "name": "order_number",
         "rawType": "int64",
         "type": "integer"
        },
        {
         "name": "order_dow",
         "rawType": "int64",
         "type": "integer"
        },
        {
         "name": "order_hour_of_day",
         "rawType": "int64",
         "type": "integer"
        },
        {
         "name": "days_since_prior_order",
         "rawType": "float64",
         "type": "float"
        }
       ],
       "conversionMethod": "pd.DataFrame",
       "ref": "aa35e7d4-0aa6-4d6e-9df7-544c2c5ca283",
       "rows": [
        [
         "4838",
         "2766110",
         "162084",
         "41",
         "3",
         "2",
         "16.0"
        ],
        [
         "5156",
         "2190225",
         "138285",
         "18",
         "3",
         "2",
         "11.0"
        ],
        [
         "15506",
         "553049",
         "58599",
         "13",
         "3",
         "2",
         "7.0"
        ],
        [
         "18420",
         "382357",
         "120200",
         "19",
         "3",
         "2",
         "11.0"
        ],
        [
         "24691",
         "690242",
         "77357",
         "2",
         "3",
         "2",
         "9.0"
        ],
        [
         "25376",
         "1378085",
         "75705",
         "21",
         "3",
         "2",
         "5.0"
        ],
        [
         "26301",
         "2846262",
         "176827",
         "2",
         "3",
         "2",
         "30.0"
        ],
        [
         "29129",
         "353088",
         "46038",
         "4",
         "3",
         "2",
         "11.0"
        ],
        [
         "30371",
         "1918001",
         "188546",
         "14",
         "3",
         "2",
         "16.0"
        ],
        [
         "31404",
         "1725788",
         "147843",
         "10",
         "3",
         "2",
         "30.0"
        ],
        [
         "48024",
         "1453300",
         "69262",
         "27",
         "3",
         "2",
         "7.0"
        ],
        [
         "52245",
         "2851380",
         "118608",
         "33",
         "3",
         "2",
         "30.0"
        ],
        [
         "62357",
         "1399416",
         "93151",
         "34",
         "3",
         "2",
         "2.0"
        ],
        [
         "68987",
         "1761462",
         "140562",
         "36",
         "3",
         "2",
         "7.0"
        ],
        [
         "70443",
         "2027608",
         "15574",
         "8",
         "3",
         "2",
         "17.0"
        ],
        [
         "74991",
         "592699",
         "175625",
         "2",
         "3",
         "2",
         "30.0"
        ],
        [
         "77051",
         "2800415",
         "196070",
         "3",
         "3",
         "2",
         "12.0"
        ],
        [
         "82460",
         "1554296",
         "39743",
         "10",
         "3",
         "2",
         "6.0"
        ],
        [
         "94257",
         "2429224",
         "132282",
         "29",
         "3",
         "2",
         "25.0"
        ],
        [
         "96232",
         "1542137",
         "136709",
         "43",
         "3",
         "2",
         "4.0"
        ],
        [
         "97378",
         "3226444",
         "149996",
         "3",
         "3",
         "2",
         "23.0"
        ],
        [
         "99462",
         "794638",
         "50898",
         "24",
         "3",
         "2",
         "2.0"
        ],
        [
         "107581",
         "2061573",
         "113852",
         "11",
         "3",
         "2",
         "23.0"
        ],
        [
         "108281",
         "2218116",
         "35918",
         "9",
         "3",
         "2",
         "8.0"
        ],
        [
         "109466",
         "851025",
         "168387",
         "54",
         "3",
         "2",
         "15.0"
        ],
        [
         "109947",
         "2908154",
         "87380",
         "2",
         "3",
         "2",
         "12.0"
        ],
        [
         "113422",
         "1353704",
         "178429",
         "3",
         "3",
         "2",
         "30.0"
        ],
        [
         "119251",
         "408114",
         "68324",
         "4",
         "3",
         "2",
         "18.0"
        ],
        [
         "120815",
         "2438538",
         "124608",
         "12",
         "3",
         "2",
         "3.0"
        ],
        [
         "136476",
         "3155527",
         "131042",
         "8",
         "3",
         "2",
         "30.0"
        ],
        [
         "141813",
         "2767450",
         "120641",
         "7",
         "3",
         "2",
         "24.0"
        ],
        [
         "142258",
         "2845099",
         "31189",
         "11",
         "3",
         "2",
         "7.0"
        ],
        [
         "145574",
         "794638",
         "50898",
         "24",
         "3",
         "2",
         "2.0"
        ],
        [
         "147860",
         "2547119",
         "59591",
         "14",
         "3",
         "2",
         "7.0"
        ],
        [
         "155154",
         "449909",
         "198005",
         "19",
         "3",
         "2",
         "30.0"
        ],
        [
         "164581",
         "1112182",
         "202304",
         "84",
         "3",
         "2",
         "6.0"
        ],
        [
         "172697",
         "3149961",
         "65466",
         "5",
         "3",
         "2",
         "19.0"
        ],
        [
         "178465",
         "3389820",
         "21703",
         "2",
         "3",
         "2",
         "11.0"
        ],
        [
         "178949",
         "2677202",
         "134700",
         "2",
         "3",
         "2",
         "6.0"
        ],
        [
         "186739",
         "2025848",
         "44593",
         "6",
         "3",
         "2",
         "30.0"
        ],
        [
         "186786",
         "2725375",
         "38353",
         "19",
         "3",
         "2",
         "2.0"
        ],
        [
         "187623",
         "2665629",
         "62212",
         "1",
         "3",
         "2",
         null
        ],
        [
         "188541",
         "404972",
         "144464",
         "2",
         "3",
         "2",
         "19.0"
        ],
        [
         "189211",
         "738145",
         "37225",
         "4",
         "3",
         "2",
         "9.0"
        ],
        [
         "195093",
         "350018",
         "142887",
         "6",
         "3",
         "2",
         "1.0"
        ],
        [
         "197305",
         "1135733",
         "110438",
         "15",
         "3",
         "2",
         "14.0"
        ],
        [
         "198084",
         "1496645",
         "146418",
         "6",
         "3",
         "2",
         "28.0"
        ],
        [
         "200059",
         "1782114",
         "106752",
         "1",
         "3",
         "2",
         null
        ],
        [
         "204042",
         "2125197",
         "14050",
         "48",
         "3",
         "2",
         "3.0"
        ],
        [
         "210068",
         "284770",
         "137352",
         "7",
         "3",
         "2",
         "8.0"
        ]
       ],
       "shape": {
        "columns": 6,
        "rows": 121
       }
      },
      "text/html": [
       "<div>\n",
       "<style scoped>\n",
       "    .dataframe tbody tr th:only-of-type {\n",
       "        vertical-align: middle;\n",
       "    }\n",
       "\n",
       "    .dataframe tbody tr th {\n",
       "        vertical-align: top;\n",
       "    }\n",
       "\n",
       "    .dataframe thead th {\n",
       "        text-align: right;\n",
       "    }\n",
       "</style>\n",
       "<table border=\"1\" class=\"dataframe\">\n",
       "  <thead>\n",
       "    <tr style=\"text-align: right;\">\n",
       "      <th></th>\n",
       "      <th>order_id</th>\n",
       "      <th>user_id</th>\n",
       "      <th>order_number</th>\n",
       "      <th>order_dow</th>\n",
       "      <th>order_hour_of_day</th>\n",
       "      <th>days_since_prior_order</th>\n",
       "    </tr>\n",
       "  </thead>\n",
       "  <tbody>\n",
       "    <tr>\n",
       "      <th>4838</th>\n",
       "      <td>2766110</td>\n",
       "      <td>162084</td>\n",
       "      <td>41</td>\n",
       "      <td>3</td>\n",
       "      <td>2</td>\n",
       "      <td>16.0</td>\n",
       "    </tr>\n",
       "    <tr>\n",
       "      <th>5156</th>\n",
       "      <td>2190225</td>\n",
       "      <td>138285</td>\n",
       "      <td>18</td>\n",
       "      <td>3</td>\n",
       "      <td>2</td>\n",
       "      <td>11.0</td>\n",
       "    </tr>\n",
       "    <tr>\n",
       "      <th>15506</th>\n",
       "      <td>553049</td>\n",
       "      <td>58599</td>\n",
       "      <td>13</td>\n",
       "      <td>3</td>\n",
       "      <td>2</td>\n",
       "      <td>7.0</td>\n",
       "    </tr>\n",
       "    <tr>\n",
       "      <th>18420</th>\n",
       "      <td>382357</td>\n",
       "      <td>120200</td>\n",
       "      <td>19</td>\n",
       "      <td>3</td>\n",
       "      <td>2</td>\n",
       "      <td>11.0</td>\n",
       "    </tr>\n",
       "    <tr>\n",
       "      <th>24691</th>\n",
       "      <td>690242</td>\n",
       "      <td>77357</td>\n",
       "      <td>2</td>\n",
       "      <td>3</td>\n",
       "      <td>2</td>\n",
       "      <td>9.0</td>\n",
       "    </tr>\n",
       "    <tr>\n",
       "      <th>...</th>\n",
       "      <td>...</td>\n",
       "      <td>...</td>\n",
       "      <td>...</td>\n",
       "      <td>...</td>\n",
       "      <td>...</td>\n",
       "      <td>...</td>\n",
       "    </tr>\n",
       "    <tr>\n",
       "      <th>457013</th>\n",
       "      <td>3384021</td>\n",
       "      <td>14881</td>\n",
       "      <td>6</td>\n",
       "      <td>3</td>\n",
       "      <td>2</td>\n",
       "      <td>30.0</td>\n",
       "    </tr>\n",
       "    <tr>\n",
       "      <th>458816</th>\n",
       "      <td>910166</td>\n",
       "      <td>164782</td>\n",
       "      <td>18</td>\n",
       "      <td>3</td>\n",
       "      <td>2</td>\n",
       "      <td>4.0</td>\n",
       "    </tr>\n",
       "    <tr>\n",
       "      <th>459635</th>\n",
       "      <td>1680532</td>\n",
       "      <td>106435</td>\n",
       "      <td>6</td>\n",
       "      <td>3</td>\n",
       "      <td>2</td>\n",
       "      <td>21.0</td>\n",
       "    </tr>\n",
       "    <tr>\n",
       "      <th>468324</th>\n",
       "      <td>222962</td>\n",
       "      <td>54979</td>\n",
       "      <td>59</td>\n",
       "      <td>3</td>\n",
       "      <td>2</td>\n",
       "      <td>3.0</td>\n",
       "    </tr>\n",
       "    <tr>\n",
       "      <th>477526</th>\n",
       "      <td>2592344</td>\n",
       "      <td>46860</td>\n",
       "      <td>38</td>\n",
       "      <td>3</td>\n",
       "      <td>2</td>\n",
       "      <td>3.0</td>\n",
       "    </tr>\n",
       "  </tbody>\n",
       "</table>\n",
       "<p>121 rows × 6 columns</p>\n",
       "</div>"
      ],
      "text/plain": [
       "        order_id  user_id  order_number  order_dow  order_hour_of_day  \\\n",
       "4838     2766110   162084            41          3                  2   \n",
       "5156     2190225   138285            18          3                  2   \n",
       "15506     553049    58599            13          3                  2   \n",
       "18420     382357   120200            19          3                  2   \n",
       "24691     690242    77357             2          3                  2   \n",
       "...          ...      ...           ...        ...                ...   \n",
       "457013   3384021    14881             6          3                  2   \n",
       "458816    910166   164782            18          3                  2   \n",
       "459635   1680532   106435             6          3                  2   \n",
       "468324    222962    54979            59          3                  2   \n",
       "477526   2592344    46860            38          3                  2   \n",
       "\n",
       "        days_since_prior_order  \n",
       "4838                      16.0  \n",
       "5156                      11.0  \n",
       "15506                      7.0  \n",
       "18420                     11.0  \n",
       "24691                      9.0  \n",
       "...                        ...  \n",
       "457013                    30.0  \n",
       "458816                     4.0  \n",
       "459635                    21.0  \n",
       "468324                     3.0  \n",
       "477526                     3.0  \n",
       "\n",
       "[121 rows x 6 columns]"
      ]
     },
     "execution_count": 64,
     "metadata": {},
     "output_type": "execute_result"
    }
   ],
   "source": [
    "# Com base nas suas conclusões, Todos os pedidos duplicados de df_inscart_orders foram feitos aos domingos as 2 horas. \n",
    "\n",
    "# verifique todos os pedidos feitos às 2h da manhã nas quartas-feiras\n",
    "\n",
    "df_inscart_orders[(df_inscart_orders['order_hour_of_day'] == 2) & (df_inscart_orders['order_dow'] == 3)]"
   ]
  },
  {
   "cell_type": "markdown",
   "id": "vu2OWyoqwOx5",
   "metadata": {
    "id": "vu2OWyoqwOx5"
   },
   "source": [
    "O que esse resultado quer dizer? "
   ]
  },
  {
   "cell_type": "markdown",
   "id": "3f9b6aa8",
   "metadata": {},
   "source": [
    "que foram feitos 121 pedidos a 2h da manhã nas quartas-feiras"
   ]
  },
  {
   "cell_type": "code",
   "execution_count": 65,
   "id": "480563c7",
   "metadata": {
    "id": "480563c7"
   },
   "outputs": [],
   "source": [
    "# Remova pedidos duplicados\n",
    "df_inscart_orders = df_inscart_orders.drop_duplicates()"
   ]
  },
  {
   "cell_type": "code",
   "execution_count": 66,
   "id": "0b2396a2",
   "metadata": {
    "id": "0b2396a2"
   },
   "outputs": [
    {
     "data": {
      "text/plain": [
       "np.int64(0)"
      ]
     },
     "execution_count": 66,
     "metadata": {},
     "output_type": "execute_result"
    }
   ],
   "source": [
    "# Verifique as linhas duplicadas mais uma vez\n",
    "df_inscart_orders.duplicated().sum()"
   ]
  },
  {
   "cell_type": "code",
   "execution_count": 67,
   "id": "f6113ef1",
   "metadata": {
    "id": "f6113ef1"
   },
   "outputs": [
    {
     "data": {
      "application/vnd.microsoft.datawrangler.viewer.v0+json": {
       "columns": [
        {
         "name": "index",
         "rawType": "int64",
         "type": "integer"
        },
        {
         "name": "order_id",
         "rawType": "int64",
         "type": "integer"
        },
        {
         "name": "user_id",
         "rawType": "int64",
         "type": "integer"
        },
        {
         "name": "order_number",
         "rawType": "int64",
         "type": "integer"
        },
        {
         "name": "order_dow",
         "rawType": "int64",
         "type": "integer"
        },
        {
         "name": "order_hour_of_day",
         "rawType": "int64",
         "type": "integer"
        },
        {
         "name": "days_since_prior_order",
         "rawType": "float64",
         "type": "float"
        }
       ],
       "conversionMethod": "pd.DataFrame",
       "ref": "3112e03c-770b-41d6-a94f-0e63452b3cdc",
       "rows": [],
       "shape": {
        "columns": 6,
        "rows": 0
       }
      },
      "text/html": [
       "<div>\n",
       "<style scoped>\n",
       "    .dataframe tbody tr th:only-of-type {\n",
       "        vertical-align: middle;\n",
       "    }\n",
       "\n",
       "    .dataframe tbody tr th {\n",
       "        vertical-align: top;\n",
       "    }\n",
       "\n",
       "    .dataframe thead th {\n",
       "        text-align: right;\n",
       "    }\n",
       "</style>\n",
       "<table border=\"1\" class=\"dataframe\">\n",
       "  <thead>\n",
       "    <tr style=\"text-align: right;\">\n",
       "      <th></th>\n",
       "      <th>order_id</th>\n",
       "      <th>user_id</th>\n",
       "      <th>order_number</th>\n",
       "      <th>order_dow</th>\n",
       "      <th>order_hour_of_day</th>\n",
       "      <th>days_since_prior_order</th>\n",
       "    </tr>\n",
       "  </thead>\n",
       "  <tbody>\n",
       "  </tbody>\n",
       "</table>\n",
       "</div>"
      ],
      "text/plain": [
       "Empty DataFrame\n",
       "Columns: [order_id, user_id, order_number, order_dow, order_hour_of_day, days_since_prior_order]\n",
       "Index: []"
      ]
     },
     "execution_count": 67,
     "metadata": {},
     "output_type": "execute_result"
    }
   ],
   "source": [
    "# Verifique novamente apenas os IDs de pedidos duplicados\n",
    "df_inscart_orders[df_inscart_orders.duplicated(subset=['order_id'])]"
   ]
  },
  {
   "cell_type": "markdown",
   "id": "5e8905ae",
   "metadata": {
    "id": "5e8905ae"
   },
   "source": [
    "\n",
    "\n",
    "Descreva brevemente suas conclusões e o que você fez com elas."
   ]
  },
  {
   "cell_type": "markdown",
   "id": "0a69365e",
   "metadata": {},
   "source": [
    "Tinha pedidos duplicados com um padrao de ser sempre no mesmo horario e o mesmo dia, talvez um bug do sistema, mas não há mais valores duplicados."
   ]
  },
  {
   "cell_type": "markdown",
   "id": "45e6bc46",
   "metadata": {
    "id": "45e6bc46"
   },
   "source": [
    "### DataFrame `products`"
   ]
  },
  {
   "cell_type": "code",
   "execution_count": 68,
   "id": "5f526b5b-8175-46fa-a0fd-441767d50e64",
   "metadata": {
    "id": "5f526b5b-8175-46fa-a0fd-441767d50e64"
   },
   "outputs": [
    {
     "data": {
      "application/vnd.microsoft.datawrangler.viewer.v0+json": {
       "columns": [
        {
         "name": "index",
         "rawType": "int64",
         "type": "integer"
        },
        {
         "name": "product_id",
         "rawType": "int64",
         "type": "integer"
        },
        {
         "name": "product_name",
         "rawType": "object",
         "type": "string"
        },
        {
         "name": "aisle_id",
         "rawType": "int64",
         "type": "integer"
        },
        {
         "name": "department_id",
         "rawType": "int64",
         "type": "integer"
        }
       ],
       "conversionMethod": "pd.DataFrame",
       "ref": "359e6175-5369-4e91-ba8b-2f1ce3d1f215",
       "rows": [],
       "shape": {
        "columns": 4,
        "rows": 0
       }
      },
      "text/html": [
       "<div>\n",
       "<style scoped>\n",
       "    .dataframe tbody tr th:only-of-type {\n",
       "        vertical-align: middle;\n",
       "    }\n",
       "\n",
       "    .dataframe tbody tr th {\n",
       "        vertical-align: top;\n",
       "    }\n",
       "\n",
       "    .dataframe thead th {\n",
       "        text-align: right;\n",
       "    }\n",
       "</style>\n",
       "<table border=\"1\" class=\"dataframe\">\n",
       "  <thead>\n",
       "    <tr style=\"text-align: right;\">\n",
       "      <th></th>\n",
       "      <th>product_id</th>\n",
       "      <th>product_name</th>\n",
       "      <th>aisle_id</th>\n",
       "      <th>department_id</th>\n",
       "    </tr>\n",
       "  </thead>\n",
       "  <tbody>\n",
       "  </tbody>\n",
       "</table>\n",
       "</div>"
      ],
      "text/plain": [
       "Empty DataFrame\n",
       "Columns: [product_id, product_name, aisle_id, department_id]\n",
       "Index: []"
      ]
     },
     "execution_count": 68,
     "metadata": {},
     "output_type": "execute_result"
    }
   ],
   "source": [
    "# Verifique se há linhas completamente duplicadas\n",
    "df_products[df_products.duplicated()]"
   ]
  },
  {
   "cell_type": "code",
   "execution_count": 69,
   "id": "88daa4f4",
   "metadata": {
    "id": "88daa4f4"
   },
   "outputs": [
    {
     "data": {
      "application/vnd.microsoft.datawrangler.viewer.v0+json": {
       "columns": [
        {
         "name": "index",
         "rawType": "int64",
         "type": "integer"
        },
        {
         "name": "product_id",
         "rawType": "int64",
         "type": "integer"
        },
        {
         "name": "product_name",
         "rawType": "object",
         "type": "string"
        },
        {
         "name": "aisle_id",
         "rawType": "int64",
         "type": "integer"
        },
        {
         "name": "department_id",
         "rawType": "int64",
         "type": "integer"
        }
       ],
       "conversionMethod": "pd.DataFrame",
       "ref": "79f80c4f-93e7-4408-b0f5-a8779767c96b",
       "rows": [],
       "shape": {
        "columns": 4,
        "rows": 0
       }
      },
      "text/html": [
       "<div>\n",
       "<style scoped>\n",
       "    .dataframe tbody tr th:only-of-type {\n",
       "        vertical-align: middle;\n",
       "    }\n",
       "\n",
       "    .dataframe tbody tr th {\n",
       "        vertical-align: top;\n",
       "    }\n",
       "\n",
       "    .dataframe thead th {\n",
       "        text-align: right;\n",
       "    }\n",
       "</style>\n",
       "<table border=\"1\" class=\"dataframe\">\n",
       "  <thead>\n",
       "    <tr style=\"text-align: right;\">\n",
       "      <th></th>\n",
       "      <th>product_id</th>\n",
       "      <th>product_name</th>\n",
       "      <th>aisle_id</th>\n",
       "      <th>department_id</th>\n",
       "    </tr>\n",
       "  </thead>\n",
       "  <tbody>\n",
       "  </tbody>\n",
       "</table>\n",
       "</div>"
      ],
      "text/plain": [
       "Empty DataFrame\n",
       "Columns: [product_id, product_name, aisle_id, department_id]\n",
       "Index: []"
      ]
     },
     "execution_count": 69,
     "metadata": {},
     "output_type": "execute_result"
    }
   ],
   "source": [
    "# Verifique apenas IDs dos produtos duplicados\n",
    "df_products[df_products.duplicated(subset=['product_id'])]"
   ]
  },
  {
   "cell_type": "code",
   "execution_count": 70,
   "id": "c773f0bf",
   "metadata": {
    "id": "c773f0bf"
   },
   "outputs": [
    {
     "data": {
      "application/vnd.microsoft.datawrangler.viewer.v0+json": {
       "columns": [
        {
         "name": "index",
         "rawType": "int64",
         "type": "integer"
        },
        {
         "name": "product_id",
         "rawType": "int64",
         "type": "integer"
        },
        {
         "name": "product_name",
         "rawType": "object",
         "type": "unknown"
        },
        {
         "name": "aisle_id",
         "rawType": "int64",
         "type": "integer"
        },
        {
         "name": "department_id",
         "rawType": "int64",
         "type": "integer"
        }
       ],
       "conversionMethod": "pd.DataFrame",
       "ref": "b45cadeb-c986-4fa4-97ea-b44f71bae5ac",
       "rows": [
        [
         "71",
         "72",
         null,
         "100",
         "21"
        ],
        [
         "109",
         "110",
         null,
         "100",
         "21"
        ],
        [
         "296",
         "297",
         null,
         "100",
         "21"
        ],
        [
         "416",
         "417",
         null,
         "100",
         "21"
        ],
        [
         "436",
         "437",
         null,
         "100",
         "21"
        ],
        [
         "439",
         "440",
         null,
         "100",
         "21"
        ],
        [
         "471",
         "472",
         null,
         "100",
         "21"
        ],
        [
         "490",
         "491",
         null,
         "100",
         "21"
        ],
        [
         "555",
         "556",
         null,
         "100",
         "21"
        ],
        [
         "561",
         "562",
         null,
         "100",
         "21"
        ],
        [
         "613",
         "614",
         null,
         "100",
         "21"
        ],
        [
         "623",
         "624",
         null,
         "100",
         "21"
        ],
        [
         "689",
         "690",
         null,
         "100",
         "21"
        ],
        [
         "767",
         "768",
         null,
         "100",
         "21"
        ],
        [
         "803",
         "804",
         null,
         "100",
         "21"
        ],
        [
         "890",
         "891",
         null,
         "100",
         "21"
        ],
        [
         "990",
         "991",
         null,
         "100",
         "21"
        ],
        [
         "1018",
         "1019",
         null,
         "100",
         "21"
        ],
        [
         "1054",
         "1055",
         null,
         "100",
         "21"
        ],
        [
         "1217",
         "1218",
         null,
         "100",
         "21"
        ],
        [
         "1282",
         "1283",
         null,
         "100",
         "21"
        ],
        [
         "1301",
         "1302",
         null,
         "100",
         "21"
        ],
        [
         "1386",
         "1387",
         null,
         "100",
         "21"
        ],
        [
         "1547",
         "1548",
         null,
         "100",
         "21"
        ],
        [
         "1561",
         "1562",
         null,
         "100",
         "21"
        ],
        [
         "1714",
         "1715",
         null,
         "100",
         "21"
        ],
        [
         "1717",
         "1718",
         null,
         "100",
         "21"
        ],
        [
         "1741",
         "1742",
         null,
         "100",
         "21"
        ],
        [
         "1797",
         "1798",
         null,
         "100",
         "21"
        ],
        [
         "1858",
         "1859",
         null,
         "100",
         "21"
        ],
        [
         "1960",
         "1961",
         null,
         "100",
         "21"
        ],
        [
         "2031",
         "2032",
         null,
         "100",
         "21"
        ],
        [
         "2058",
         "2059",
         "Biotin 1000 Mcg",
         "47",
         "11"
        ],
        [
         "2081",
         "2082",
         null,
         "100",
         "21"
        ],
        [
         "2133",
         "2134",
         null,
         "100",
         "21"
        ],
        [
         "2161",
         "2162",
         null,
         "100",
         "21"
        ],
        [
         "2197",
         "2198",
         null,
         "100",
         "21"
        ],
        [
         "2264",
         "2265",
         null,
         "100",
         "21"
        ],
        [
         "2334",
         "2335",
         null,
         "100",
         "21"
        ],
        [
         "2370",
         "2371",
         null,
         "100",
         "21"
        ],
        [
         "2374",
         "2375",
         null,
         "100",
         "21"
        ],
        [
         "2383",
         "2384",
         null,
         "100",
         "21"
        ],
        [
         "2506",
         "2507",
         null,
         "100",
         "21"
        ],
        [
         "2553",
         "2554",
         null,
         "100",
         "21"
        ],
        [
         "2556",
         "2557",
         null,
         "100",
         "21"
        ],
        [
         "2576",
         "2577",
         null,
         "100",
         "21"
        ],
        [
         "2591",
         "2592",
         null,
         "100",
         "21"
        ],
        [
         "2607",
         "2608",
         null,
         "100",
         "21"
        ],
        [
         "2672",
         "2673",
         null,
         "100",
         "21"
        ],
        [
         "2686",
         "2687",
         null,
         "100",
         "21"
        ]
       ],
       "shape": {
        "columns": 4,
        "rows": 1361
       }
      },
      "text/html": [
       "<div>\n",
       "<style scoped>\n",
       "    .dataframe tbody tr th:only-of-type {\n",
       "        vertical-align: middle;\n",
       "    }\n",
       "\n",
       "    .dataframe tbody tr th {\n",
       "        vertical-align: top;\n",
       "    }\n",
       "\n",
       "    .dataframe thead th {\n",
       "        text-align: right;\n",
       "    }\n",
       "</style>\n",
       "<table border=\"1\" class=\"dataframe\">\n",
       "  <thead>\n",
       "    <tr style=\"text-align: right;\">\n",
       "      <th></th>\n",
       "      <th>product_id</th>\n",
       "      <th>product_name</th>\n",
       "      <th>aisle_id</th>\n",
       "      <th>department_id</th>\n",
       "    </tr>\n",
       "  </thead>\n",
       "  <tbody>\n",
       "    <tr>\n",
       "      <th>71</th>\n",
       "      <td>72</td>\n",
       "      <td>NaN</td>\n",
       "      <td>100</td>\n",
       "      <td>21</td>\n",
       "    </tr>\n",
       "    <tr>\n",
       "      <th>109</th>\n",
       "      <td>110</td>\n",
       "      <td>NaN</td>\n",
       "      <td>100</td>\n",
       "      <td>21</td>\n",
       "    </tr>\n",
       "    <tr>\n",
       "      <th>296</th>\n",
       "      <td>297</td>\n",
       "      <td>NaN</td>\n",
       "      <td>100</td>\n",
       "      <td>21</td>\n",
       "    </tr>\n",
       "    <tr>\n",
       "      <th>416</th>\n",
       "      <td>417</td>\n",
       "      <td>NaN</td>\n",
       "      <td>100</td>\n",
       "      <td>21</td>\n",
       "    </tr>\n",
       "    <tr>\n",
       "      <th>436</th>\n",
       "      <td>437</td>\n",
       "      <td>NaN</td>\n",
       "      <td>100</td>\n",
       "      <td>21</td>\n",
       "    </tr>\n",
       "    <tr>\n",
       "      <th>...</th>\n",
       "      <td>...</td>\n",
       "      <td>...</td>\n",
       "      <td>...</td>\n",
       "      <td>...</td>\n",
       "    </tr>\n",
       "    <tr>\n",
       "      <th>49689</th>\n",
       "      <td>49690</td>\n",
       "      <td>HIGH PERFORMANCE ENERGY DRINK</td>\n",
       "      <td>64</td>\n",
       "      <td>7</td>\n",
       "    </tr>\n",
       "    <tr>\n",
       "      <th>49690</th>\n",
       "      <td>49691</td>\n",
       "      <td>ORIGINAL PANCAKE &amp; WAFFLE MIX</td>\n",
       "      <td>130</td>\n",
       "      <td>14</td>\n",
       "    </tr>\n",
       "    <tr>\n",
       "      <th>49691</th>\n",
       "      <td>49692</td>\n",
       "      <td>ORGANIC INSTANT OATMEAL LIGHT MAPLE BROWN SUGAR</td>\n",
       "      <td>130</td>\n",
       "      <td>14</td>\n",
       "    </tr>\n",
       "    <tr>\n",
       "      <th>49692</th>\n",
       "      <td>49693</td>\n",
       "      <td>SPRING WATER BODY WASH</td>\n",
       "      <td>127</td>\n",
       "      <td>11</td>\n",
       "    </tr>\n",
       "    <tr>\n",
       "      <th>49693</th>\n",
       "      <td>49694</td>\n",
       "      <td>BURRITO- STEAK &amp; CHEESE</td>\n",
       "      <td>38</td>\n",
       "      <td>1</td>\n",
       "    </tr>\n",
       "  </tbody>\n",
       "</table>\n",
       "<p>1361 rows × 4 columns</p>\n",
       "</div>"
      ],
      "text/plain": [
       "       product_id                                     product_name  aisle_id  \\\n",
       "71             72                                              NaN       100   \n",
       "109           110                                              NaN       100   \n",
       "296           297                                              NaN       100   \n",
       "416           417                                              NaN       100   \n",
       "436           437                                              NaN       100   \n",
       "...           ...                                              ...       ...   \n",
       "49689       49690                    HIGH PERFORMANCE ENERGY DRINK        64   \n",
       "49690       49691                    ORIGINAL PANCAKE & WAFFLE MIX       130   \n",
       "49691       49692  ORGANIC INSTANT OATMEAL LIGHT MAPLE BROWN SUGAR       130   \n",
       "49692       49693                           SPRING WATER BODY WASH       127   \n",
       "49693       49694                          BURRITO- STEAK & CHEESE        38   \n",
       "\n",
       "       department_id  \n",
       "71                21  \n",
       "109               21  \n",
       "296               21  \n",
       "416               21  \n",
       "436               21  \n",
       "...              ...  \n",
       "49689              7  \n",
       "49690             14  \n",
       "49691             14  \n",
       "49692             11  \n",
       "49693              1  \n",
       "\n",
       "[1361 rows x 4 columns]"
      ]
     },
     "execution_count": 70,
     "metadata": {},
     "output_type": "execute_result"
    }
   ],
   "source": [
    "# Verifique apenas nomes de produtos duplicados (converta os nomes para minúsculas para uma comparação melhor)\n",
    "df_products[df_products['product_name'].str.lower().duplicated()]\n",
    "# Verifique apenas IDs de produtos duplicados\n"
   ]
  },
  {
   "cell_type": "code",
   "execution_count": 71,
   "id": "01efd02e",
   "metadata": {
    "id": "01efd02e"
   },
   "outputs": [
    {
     "data": {
      "application/vnd.microsoft.datawrangler.viewer.v0+json": {
       "columns": [
        {
         "name": "index",
         "rawType": "int64",
         "type": "integer"
        },
        {
         "name": "product_id",
         "rawType": "int64",
         "type": "integer"
        },
        {
         "name": "product_name",
         "rawType": "object",
         "type": "string"
        },
        {
         "name": "aisle_id",
         "rawType": "int64",
         "type": "integer"
        },
        {
         "name": "department_id",
         "rawType": "int64",
         "type": "integer"
        }
       ],
       "conversionMethod": "pd.DataFrame",
       "ref": "7258bd2c-1738-4784-9c16-3a8028862bf0",
       "rows": [
        [
         "41",
         "42",
         "Biotin 1000 mcg",
         "47",
         "11"
        ],
        [
         "185",
         "186",
         "Fresh Scent Dishwasher Detergent with Dawn",
         "74",
         "17"
        ],
        [
         "515",
         "516",
         "American Cheese Slices",
         "21",
         "16"
        ],
        [
         "1538",
         "1539",
         "Cauliflower head",
         "83",
         "4"
        ],
        [
         "1783",
         "1784",
         "NUTrition Protein Mix Blueberry Nut",
         "117",
         "19"
        ],
        [
         "1826",
         "1827",
         "Yams Cut Sweet Potatoes in Syrup",
         "81",
         "15"
        ],
        [
         "1853",
         "1854",
         "Pineapple Slices In Heavy Syrup",
         "99",
         "15"
        ],
        [
         "2037",
         "2038",
         "Green Tea with Ginseng and Honey",
         "94",
         "7"
        ],
        [
         "2058",
         "2059",
         "Biotin 1000 Mcg",
         "47",
         "11"
        ],
        [
         "2444",
         "2445",
         "Powerball Max in 1 Shine & Protect",
         "74",
         "17"
        ],
        [
         "2594",
         "2595",
         "Tender white meat chicken- vegetables & rice in a cheddar cheese sauce Grandma's Chicken & Vegetable Rice Bake",
         "38",
         "1"
        ],
        [
         "2690",
         "2691",
         "Bbq Sauce",
         "5",
         "13"
        ],
        [
         "2956",
         "2957",
         "Cinnamon Rolls With Icing",
         "105",
         "13"
        ],
        [
         "3132",
         "3133",
         "Potatoes O'Brien With Onions And Peppers",
         "129",
         "1"
        ],
        [
         "3172",
         "3173",
         "Bleu Cheese Salad Dressing and Dip",
         "89",
         "13"
        ],
        [
         "3881",
         "3882",
         "Beef Chili with Beans",
         "59",
         "15"
        ],
        [
         "4316",
         "4317",
         "Solid White Albacore Tuna In Water",
         "95",
         "15"
        ],
        [
         "4376",
         "4377",
         "Bag of Oranges",
         "24",
         "4"
        ],
        [
         "4387",
         "4388",
         "Vitamin D3 2000 IU",
         "47",
         "11"
        ],
        [
         "4468",
         "4469",
         "Mandarin Oranges In Light Syrup",
         "99",
         "15"
        ],
        [
         "5051",
         "5052",
         "Pumpkin Spice",
         "104",
         "13"
        ],
        [
         "5438",
         "5439",
         "Cream of Mushroom Soup",
         "69",
         "15"
        ],
        [
         "5455",
         "5456",
         "Green Tea With Ginseng and Honey",
         "96",
         "20"
        ],
        [
         "5558",
         "5559",
         "Cream Of Mushroom Soup",
         "69",
         "15"
        ],
        [
         "6134",
         "6135",
         "Cream Of Tartar",
         "104",
         "13"
        ],
        [
         "6285",
         "6286",
         "Half and Half",
         "53",
         "16"
        ],
        [
         "6367",
         "6368",
         "Sour Cream And Onion Potato Chips",
         "107",
         "19"
        ],
        [
         "6757",
         "6758",
         "Hearts Of Palm",
         "81",
         "15"
        ],
        [
         "7462",
         "7463",
         "ConcenTrace Trace Mineral Drops",
         "47",
         "11"
        ],
        [
         "7558",
         "7559",
         "Cinnamon Rolls with Icing",
         "105",
         "13"
        ],
        [
         "7740",
         "7741",
         "Chipotle Peppers In Adobo Sauce",
         "30",
         "6"
        ],
        [
         "7827",
         "7828",
         "Lasagna with Meat Sauce",
         "38",
         "1"
        ],
        [
         "8810",
         "8811",
         "Top the Tater Chive & Onion Sour Cream",
         "67",
         "20"
        ],
        [
         "8819",
         "8820",
         "Crushed Tomatoes with Basil",
         "81",
         "15"
        ],
        [
         "9037",
         "9038",
         "American Cheese slices",
         "21",
         "16"
        ],
        [
         "9151",
         "9152",
         "Mountain Berry Blast Sports Drink",
         "64",
         "7"
        ],
        [
         "9642",
         "9643",
         "Organic Balsamic Vinegar of Modena",
         "19",
         "13"
        ],
        [
         "10008",
         "10009",
         "Chunk Light Tuna In Vegetable Oil",
         "95",
         "15"
        ],
        [
         "10059",
         "10060",
         "Original BBQ Sauce",
         "72",
         "13"
        ],
        [
         "10101",
         "10102",
         "Carrot and Celery Sticks",
         "123",
         "4"
        ],
        [
         "10349",
         "10350",
         "Cosmic Brownies With Chocolate Chip Candy",
         "61",
         "19"
        ],
        [
         "10410",
         "10411",
         "Cauliflower Head",
         "83",
         "4"
        ],
        [
         "10747",
         "10748",
         "Chicken with Rice Soup",
         "69",
         "15"
        ],
        [
         "11070",
         "11071",
         "MATZO BALL MIX",
         "33",
         "6"
        ],
        [
         "11148",
         "11149",
         "Candy Bar",
         "45",
         "19"
        ],
        [
         "11163",
         "11164",
         "Blanc De Noirs",
         "62",
         "5"
        ],
        [
         "12247",
         "12248",
         "Tomato And Basil Pasta Sauce",
         "9",
         "9"
        ],
        [
         "12325",
         "12326",
         "Anchovy Fillets in Olive Oil",
         "95",
         "15"
        ],
        [
         "12461",
         "12462",
         "Protein PLUS Vanilla Bean Protein Shake",
         "31",
         "7"
        ],
        [
         "12820",
         "12821",
         "pumpkin spice",
         "53",
         "16"
        ]
       ],
       "shape": {
        "columns": 4,
        "rows": 207
       }
      },
      "text/html": [
       "<div>\n",
       "<style scoped>\n",
       "    .dataframe tbody tr th:only-of-type {\n",
       "        vertical-align: middle;\n",
       "    }\n",
       "\n",
       "    .dataframe tbody tr th {\n",
       "        vertical-align: top;\n",
       "    }\n",
       "\n",
       "    .dataframe thead th {\n",
       "        text-align: right;\n",
       "    }\n",
       "</style>\n",
       "<table border=\"1\" class=\"dataframe\">\n",
       "  <thead>\n",
       "    <tr style=\"text-align: right;\">\n",
       "      <th></th>\n",
       "      <th>product_id</th>\n",
       "      <th>product_name</th>\n",
       "      <th>aisle_id</th>\n",
       "      <th>department_id</th>\n",
       "    </tr>\n",
       "  </thead>\n",
       "  <tbody>\n",
       "    <tr>\n",
       "      <th>41</th>\n",
       "      <td>42</td>\n",
       "      <td>Biotin 1000 mcg</td>\n",
       "      <td>47</td>\n",
       "      <td>11</td>\n",
       "    </tr>\n",
       "    <tr>\n",
       "      <th>185</th>\n",
       "      <td>186</td>\n",
       "      <td>Fresh Scent Dishwasher Detergent with Dawn</td>\n",
       "      <td>74</td>\n",
       "      <td>17</td>\n",
       "    </tr>\n",
       "    <tr>\n",
       "      <th>515</th>\n",
       "      <td>516</td>\n",
       "      <td>American Cheese Slices</td>\n",
       "      <td>21</td>\n",
       "      <td>16</td>\n",
       "    </tr>\n",
       "    <tr>\n",
       "      <th>1538</th>\n",
       "      <td>1539</td>\n",
       "      <td>Cauliflower head</td>\n",
       "      <td>83</td>\n",
       "      <td>4</td>\n",
       "    </tr>\n",
       "    <tr>\n",
       "      <th>1783</th>\n",
       "      <td>1784</td>\n",
       "      <td>NUTrition Protein Mix Blueberry Nut</td>\n",
       "      <td>117</td>\n",
       "      <td>19</td>\n",
       "    </tr>\n",
       "    <tr>\n",
       "      <th>...</th>\n",
       "      <td>...</td>\n",
       "      <td>...</td>\n",
       "      <td>...</td>\n",
       "      <td>...</td>\n",
       "    </tr>\n",
       "    <tr>\n",
       "      <th>49689</th>\n",
       "      <td>49690</td>\n",
       "      <td>HIGH PERFORMANCE ENERGY DRINK</td>\n",
       "      <td>64</td>\n",
       "      <td>7</td>\n",
       "    </tr>\n",
       "    <tr>\n",
       "      <th>49690</th>\n",
       "      <td>49691</td>\n",
       "      <td>ORIGINAL PANCAKE &amp; WAFFLE MIX</td>\n",
       "      <td>130</td>\n",
       "      <td>14</td>\n",
       "    </tr>\n",
       "    <tr>\n",
       "      <th>49691</th>\n",
       "      <td>49692</td>\n",
       "      <td>ORGANIC INSTANT OATMEAL LIGHT MAPLE BROWN SUGAR</td>\n",
       "      <td>130</td>\n",
       "      <td>14</td>\n",
       "    </tr>\n",
       "    <tr>\n",
       "      <th>49692</th>\n",
       "      <td>49693</td>\n",
       "      <td>SPRING WATER BODY WASH</td>\n",
       "      <td>127</td>\n",
       "      <td>11</td>\n",
       "    </tr>\n",
       "    <tr>\n",
       "      <th>49693</th>\n",
       "      <td>49694</td>\n",
       "      <td>BURRITO- STEAK &amp; CHEESE</td>\n",
       "      <td>38</td>\n",
       "      <td>1</td>\n",
       "    </tr>\n",
       "  </tbody>\n",
       "</table>\n",
       "<p>207 rows × 4 columns</p>\n",
       "</div>"
      ],
      "text/plain": [
       "       product_id                                     product_name  aisle_id  \\\n",
       "41             42                                  Biotin 1000 mcg        47   \n",
       "185           186       Fresh Scent Dishwasher Detergent with Dawn        74   \n",
       "515           516                           American Cheese Slices        21   \n",
       "1538         1539                                 Cauliflower head        83   \n",
       "1783         1784              NUTrition Protein Mix Blueberry Nut       117   \n",
       "...           ...                                              ...       ...   \n",
       "49689       49690                    HIGH PERFORMANCE ENERGY DRINK        64   \n",
       "49690       49691                    ORIGINAL PANCAKE & WAFFLE MIX       130   \n",
       "49691       49692  ORGANIC INSTANT OATMEAL LIGHT MAPLE BROWN SUGAR       130   \n",
       "49692       49693                           SPRING WATER BODY WASH       127   \n",
       "49693       49694                          BURRITO- STEAK & CHEESE        38   \n",
       "\n",
       "       department_id  \n",
       "41                11  \n",
       "185               17  \n",
       "515               16  \n",
       "1538               4  \n",
       "1783              19  \n",
       "...              ...  \n",
       "49689              7  \n",
       "49690             14  \n",
       "49691             14  \n",
       "49692             11  \n",
       "49693              1  \n",
       "\n",
       "[207 rows x 4 columns]"
      ]
     },
     "execution_count": 71,
     "metadata": {},
     "output_type": "execute_result"
    }
   ],
   "source": [
    "# Verifique os nomes de produtos duplicados que não estão faltando\n",
    "df_products[df_products['product_name'].str.lower().duplicated(keep=False) & df_products['product_name'].notnull()]"
   ]
  },
  {
   "cell_type": "markdown",
   "id": "9da8d293",
   "metadata": {
    "id": "9da8d293"
   },
   "source": [
    "Descreva brevemente suas conclusões e o que você fez com elas."
   ]
  },
  {
   "cell_type": "markdown",
   "id": "3020137a",
   "metadata": {},
   "source": [
    "esse aqui tem muito nome faltando, talvez nao seja problema pois temos o id do produto, Vamos ve hehe "
   ]
  },
  {
   "cell_type": "markdown",
   "id": "60f30db1",
   "metadata": {
    "id": "60f30db1"
   },
   "source": [
    "### DataFrame `departments`"
   ]
  },
  {
   "cell_type": "code",
   "execution_count": 72,
   "id": "fb410ad4-0fbf-4b80-bb09-23fdea79afe3",
   "metadata": {
    "id": "fb410ad4-0fbf-4b80-bb09-23fdea79afe3"
   },
   "outputs": [
    {
     "data": {
      "text/plain": [
       "np.int64(0)"
      ]
     },
     "execution_count": 72,
     "metadata": {},
     "output_type": "execute_result"
    }
   ],
   "source": [
    "# Verifique se há linhas completamente duplicadas\n",
    "df_departments.duplicated().sum()"
   ]
  },
  {
   "cell_type": "code",
   "execution_count": 73,
   "id": "332b12bb",
   "metadata": {
    "id": "332b12bb"
   },
   "outputs": [
    {
     "data": {
      "application/vnd.microsoft.datawrangler.viewer.v0+json": {
       "columns": [
        {
         "name": "index",
         "rawType": "int64",
         "type": "integer"
        },
        {
         "name": "department_id",
         "rawType": "int64",
         "type": "integer"
        },
        {
         "name": "department",
         "rawType": "object",
         "type": "string"
        }
       ],
       "conversionMethod": "pd.DataFrame",
       "ref": "f5f3074c-b9b6-48e0-af14-b0136aaa7a06",
       "rows": [],
       "shape": {
        "columns": 2,
        "rows": 0
       }
      },
      "text/html": [
       "<div>\n",
       "<style scoped>\n",
       "    .dataframe tbody tr th:only-of-type {\n",
       "        vertical-align: middle;\n",
       "    }\n",
       "\n",
       "    .dataframe tbody tr th {\n",
       "        vertical-align: top;\n",
       "    }\n",
       "\n",
       "    .dataframe thead th {\n",
       "        text-align: right;\n",
       "    }\n",
       "</style>\n",
       "<table border=\"1\" class=\"dataframe\">\n",
       "  <thead>\n",
       "    <tr style=\"text-align: right;\">\n",
       "      <th></th>\n",
       "      <th>department_id</th>\n",
       "      <th>department</th>\n",
       "    </tr>\n",
       "  </thead>\n",
       "  <tbody>\n",
       "  </tbody>\n",
       "</table>\n",
       "</div>"
      ],
      "text/plain": [
       "Empty DataFrame\n",
       "Columns: [department_id, department]\n",
       "Index: []"
      ]
     },
     "execution_count": 73,
     "metadata": {},
     "output_type": "execute_result"
    }
   ],
   "source": [
    "# Verifique apenas se há IDs dos produtos duplicados\n",
    "df_departments[df_departments.duplicated(subset=['department_id'])]"
   ]
  },
  {
   "cell_type": "markdown",
   "id": "bd30d78e",
   "metadata": {
    "id": "bd30d78e"
   },
   "source": [
    "Descreva brevemente suas conclusões e o que você fez com elas."
   ]
  },
  {
   "cell_type": "markdown",
   "id": "3caccc28",
   "metadata": {},
   "source": [
    "Ta tranquilo! segue sem linhas duplicadas "
   ]
  },
  {
   "cell_type": "markdown",
   "id": "889349c1",
   "metadata": {
    "id": "889349c1"
   },
   "source": [
    "### DataFrame `aisles`"
   ]
  },
  {
   "cell_type": "code",
   "execution_count": 74,
   "id": "9da89fb9-4679-40f5-ad0d-c34df753a3f8",
   "metadata": {
    "id": "9da89fb9-4679-40f5-ad0d-c34df753a3f8"
   },
   "outputs": [
    {
     "data": {
      "text/plain": [
       "np.int64(0)"
      ]
     },
     "execution_count": 74,
     "metadata": {},
     "output_type": "execute_result"
    }
   ],
   "source": [
    "# Verifique se há linhas completamente duplicadas\n",
    "df_aisles.duplicated().sum()"
   ]
  },
  {
   "cell_type": "code",
   "execution_count": 75,
   "id": "da7c2822",
   "metadata": {
    "id": "da7c2822"
   },
   "outputs": [
    {
     "data": {
      "application/vnd.microsoft.datawrangler.viewer.v0+json": {
       "columns": [
        {
         "name": "index",
         "rawType": "int64",
         "type": "integer"
        },
        {
         "name": "aisle_id",
         "rawType": "int64",
         "type": "integer"
        },
        {
         "name": "aisle",
         "rawType": "object",
         "type": "string"
        }
       ],
       "conversionMethod": "pd.DataFrame",
       "ref": "59dbc0d7-d47b-4e6d-9901-740854d83c92",
       "rows": [],
       "shape": {
        "columns": 2,
        "rows": 0
       }
      },
      "text/html": [
       "<div>\n",
       "<style scoped>\n",
       "    .dataframe tbody tr th:only-of-type {\n",
       "        vertical-align: middle;\n",
       "    }\n",
       "\n",
       "    .dataframe tbody tr th {\n",
       "        vertical-align: top;\n",
       "    }\n",
       "\n",
       "    .dataframe thead th {\n",
       "        text-align: right;\n",
       "    }\n",
       "</style>\n",
       "<table border=\"1\" class=\"dataframe\">\n",
       "  <thead>\n",
       "    <tr style=\"text-align: right;\">\n",
       "      <th></th>\n",
       "      <th>aisle_id</th>\n",
       "      <th>aisle</th>\n",
       "    </tr>\n",
       "  </thead>\n",
       "  <tbody>\n",
       "  </tbody>\n",
       "</table>\n",
       "</div>"
      ],
      "text/plain": [
       "Empty DataFrame\n",
       "Columns: [aisle_id, aisle]\n",
       "Index: []"
      ]
     },
     "execution_count": 75,
     "metadata": {},
     "output_type": "execute_result"
    }
   ],
   "source": [
    "# Verifique apenas se há IDs dos produtos duplicados\n",
    "df_aisles[df_aisles.duplicated(subset=['aisle_id'])]"
   ]
  },
  {
   "cell_type": "markdown",
   "id": "ac63826f",
   "metadata": {
    "id": "ac63826f"
   },
   "source": [
    "Descreva brevemente suas conclusões e o que você fez com elas."
   ]
  },
  {
   "cell_type": "markdown",
   "id": "5a75b325",
   "metadata": {},
   "source": [
    "Tudo numa boa aqui tbm, sem duplicado"
   ]
  },
  {
   "cell_type": "markdown",
   "id": "274cd06a",
   "metadata": {
    "id": "274cd06a"
   },
   "source": [
    "### DataFrame `order_products`"
   ]
  },
  {
   "cell_type": "code",
   "execution_count": 76,
   "id": "52326689-84a8-4b8f-a881-7c68780f62c9",
   "metadata": {
    "id": "52326689-84a8-4b8f-a881-7c68780f62c9"
   },
   "outputs": [
    {
     "data": {
      "text/plain": [
       "np.int64(0)"
      ]
     },
     "execution_count": 76,
     "metadata": {},
     "output_type": "execute_result"
    }
   ],
   "source": [
    "# Verifique se há linhas completamente duplicadas\n",
    "df_orders_products.duplicated().sum()"
   ]
  },
  {
   "cell_type": "code",
   "execution_count": 77,
   "id": "7b861391",
   "metadata": {
    "id": "7b861391"
   },
   "outputs": [
    {
     "data": {
      "text/plain": [
       "np.int64(0)"
      ]
     },
     "execution_count": 77,
     "metadata": {},
     "output_type": "execute_result"
    }
   ],
   "source": [
    "# Verifique mais uma vez se há outros casos complicados de duplicados\n",
    "df_orders_products.duplicated(subset=['order_id', 'product_id']).sum()"
   ]
  },
  {
   "cell_type": "markdown",
   "id": "0b890492",
   "metadata": {
    "id": "0b890492"
   },
   "source": [
    "Descreva brevemente suas conclusões e o que você fez com elas."
   ]
  },
  {
   "cell_type": "markdown",
   "id": "6aa0b97b",
   "metadata": {},
   "source": [
    "minha conclusao e que nao tem nenhum duplicado. seguimos\n"
   ]
  },
  {
   "cell_type": "markdown",
   "id": "1e46de76",
   "metadata": {
    "id": "1e46de76"
   },
   "source": [
    "## Encontre e remova valores ausentes\n",
    "\n",
    "\n",
    "Ao processarmos valores duplicados, observamos que também temos valores ausentes que precisamos investigar nas seguintes colunas:\n",
    "\n",
    "*\tA coluna `'product_name'` da tabela products.\n",
    "*\tA coluna `'days_since_prior_order'` da tabela orders.\n",
    "*\tA coluna `'add_to_cart_order'` da tabela order_products.\n"
   ]
  },
  {
   "cell_type": "markdown",
   "id": "c0aebd78",
   "metadata": {
    "id": "c0aebd78"
   },
   "source": [
    "### DataFrame `products`"
   ]
  },
  {
   "cell_type": "code",
   "execution_count": 78,
   "id": "fe4a8b0f",
   "metadata": {
    "id": "fe4a8b0f"
   },
   "outputs": [
    {
     "data": {
      "application/vnd.microsoft.datawrangler.viewer.v0+json": {
       "columns": [
        {
         "name": "index",
         "rawType": "int64",
         "type": "integer"
        },
        {
         "name": "product_id",
         "rawType": "int64",
         "type": "integer"
        },
        {
         "name": "product_name",
         "rawType": "object",
         "type": "unknown"
        },
        {
         "name": "aisle_id",
         "rawType": "int64",
         "type": "integer"
        },
        {
         "name": "department_id",
         "rawType": "int64",
         "type": "integer"
        }
       ],
       "conversionMethod": "pd.DataFrame",
       "ref": "2568dc5a-55d1-4aa6-8f6e-a65af18e6ca9",
       "rows": [
        [
         "37",
         "38",
         null,
         "100",
         "21"
        ],
        [
         "71",
         "72",
         null,
         "100",
         "21"
        ],
        [
         "109",
         "110",
         null,
         "100",
         "21"
        ],
        [
         "296",
         "297",
         null,
         "100",
         "21"
        ],
        [
         "416",
         "417",
         null,
         "100",
         "21"
        ],
        [
         "436",
         "437",
         null,
         "100",
         "21"
        ],
        [
         "439",
         "440",
         null,
         "100",
         "21"
        ],
        [
         "471",
         "472",
         null,
         "100",
         "21"
        ],
        [
         "490",
         "491",
         null,
         "100",
         "21"
        ],
        [
         "555",
         "556",
         null,
         "100",
         "21"
        ],
        [
         "561",
         "562",
         null,
         "100",
         "21"
        ],
        [
         "613",
         "614",
         null,
         "100",
         "21"
        ],
        [
         "623",
         "624",
         null,
         "100",
         "21"
        ],
        [
         "689",
         "690",
         null,
         "100",
         "21"
        ],
        [
         "767",
         "768",
         null,
         "100",
         "21"
        ],
        [
         "803",
         "804",
         null,
         "100",
         "21"
        ],
        [
         "890",
         "891",
         null,
         "100",
         "21"
        ],
        [
         "990",
         "991",
         null,
         "100",
         "21"
        ],
        [
         "1018",
         "1019",
         null,
         "100",
         "21"
        ],
        [
         "1054",
         "1055",
         null,
         "100",
         "21"
        ],
        [
         "1217",
         "1218",
         null,
         "100",
         "21"
        ],
        [
         "1282",
         "1283",
         null,
         "100",
         "21"
        ],
        [
         "1301",
         "1302",
         null,
         "100",
         "21"
        ],
        [
         "1386",
         "1387",
         null,
         "100",
         "21"
        ],
        [
         "1547",
         "1548",
         null,
         "100",
         "21"
        ],
        [
         "1561",
         "1562",
         null,
         "100",
         "21"
        ],
        [
         "1714",
         "1715",
         null,
         "100",
         "21"
        ],
        [
         "1717",
         "1718",
         null,
         "100",
         "21"
        ],
        [
         "1741",
         "1742",
         null,
         "100",
         "21"
        ],
        [
         "1797",
         "1798",
         null,
         "100",
         "21"
        ],
        [
         "1858",
         "1859",
         null,
         "100",
         "21"
        ],
        [
         "1960",
         "1961",
         null,
         "100",
         "21"
        ],
        [
         "2031",
         "2032",
         null,
         "100",
         "21"
        ],
        [
         "2081",
         "2082",
         null,
         "100",
         "21"
        ],
        [
         "2133",
         "2134",
         null,
         "100",
         "21"
        ],
        [
         "2161",
         "2162",
         null,
         "100",
         "21"
        ],
        [
         "2197",
         "2198",
         null,
         "100",
         "21"
        ],
        [
         "2264",
         "2265",
         null,
         "100",
         "21"
        ],
        [
         "2334",
         "2335",
         null,
         "100",
         "21"
        ],
        [
         "2370",
         "2371",
         null,
         "100",
         "21"
        ],
        [
         "2374",
         "2375",
         null,
         "100",
         "21"
        ],
        [
         "2383",
         "2384",
         null,
         "100",
         "21"
        ],
        [
         "2506",
         "2507",
         null,
         "100",
         "21"
        ],
        [
         "2553",
         "2554",
         null,
         "100",
         "21"
        ],
        [
         "2556",
         "2557",
         null,
         "100",
         "21"
        ],
        [
         "2576",
         "2577",
         null,
         "100",
         "21"
        ],
        [
         "2591",
         "2592",
         null,
         "100",
         "21"
        ],
        [
         "2607",
         "2608",
         null,
         "100",
         "21"
        ],
        [
         "2672",
         "2673",
         null,
         "100",
         "21"
        ],
        [
         "2686",
         "2687",
         null,
         "100",
         "21"
        ]
       ],
       "shape": {
        "columns": 4,
        "rows": 1258
       }
      },
      "text/html": [
       "<div>\n",
       "<style scoped>\n",
       "    .dataframe tbody tr th:only-of-type {\n",
       "        vertical-align: middle;\n",
       "    }\n",
       "\n",
       "    .dataframe tbody tr th {\n",
       "        vertical-align: top;\n",
       "    }\n",
       "\n",
       "    .dataframe thead th {\n",
       "        text-align: right;\n",
       "    }\n",
       "</style>\n",
       "<table border=\"1\" class=\"dataframe\">\n",
       "  <thead>\n",
       "    <tr style=\"text-align: right;\">\n",
       "      <th></th>\n",
       "      <th>product_id</th>\n",
       "      <th>product_name</th>\n",
       "      <th>aisle_id</th>\n",
       "      <th>department_id</th>\n",
       "    </tr>\n",
       "  </thead>\n",
       "  <tbody>\n",
       "    <tr>\n",
       "      <th>37</th>\n",
       "      <td>38</td>\n",
       "      <td>NaN</td>\n",
       "      <td>100</td>\n",
       "      <td>21</td>\n",
       "    </tr>\n",
       "    <tr>\n",
       "      <th>71</th>\n",
       "      <td>72</td>\n",
       "      <td>NaN</td>\n",
       "      <td>100</td>\n",
       "      <td>21</td>\n",
       "    </tr>\n",
       "    <tr>\n",
       "      <th>109</th>\n",
       "      <td>110</td>\n",
       "      <td>NaN</td>\n",
       "      <td>100</td>\n",
       "      <td>21</td>\n",
       "    </tr>\n",
       "    <tr>\n",
       "      <th>296</th>\n",
       "      <td>297</td>\n",
       "      <td>NaN</td>\n",
       "      <td>100</td>\n",
       "      <td>21</td>\n",
       "    </tr>\n",
       "    <tr>\n",
       "      <th>416</th>\n",
       "      <td>417</td>\n",
       "      <td>NaN</td>\n",
       "      <td>100</td>\n",
       "      <td>21</td>\n",
       "    </tr>\n",
       "    <tr>\n",
       "      <th>...</th>\n",
       "      <td>...</td>\n",
       "      <td>...</td>\n",
       "      <td>...</td>\n",
       "      <td>...</td>\n",
       "    </tr>\n",
       "    <tr>\n",
       "      <th>49552</th>\n",
       "      <td>49553</td>\n",
       "      <td>NaN</td>\n",
       "      <td>100</td>\n",
       "      <td>21</td>\n",
       "    </tr>\n",
       "    <tr>\n",
       "      <th>49574</th>\n",
       "      <td>49575</td>\n",
       "      <td>NaN</td>\n",
       "      <td>100</td>\n",
       "      <td>21</td>\n",
       "    </tr>\n",
       "    <tr>\n",
       "      <th>49640</th>\n",
       "      <td>49641</td>\n",
       "      <td>NaN</td>\n",
       "      <td>100</td>\n",
       "      <td>21</td>\n",
       "    </tr>\n",
       "    <tr>\n",
       "      <th>49663</th>\n",
       "      <td>49664</td>\n",
       "      <td>NaN</td>\n",
       "      <td>100</td>\n",
       "      <td>21</td>\n",
       "    </tr>\n",
       "    <tr>\n",
       "      <th>49668</th>\n",
       "      <td>49669</td>\n",
       "      <td>NaN</td>\n",
       "      <td>100</td>\n",
       "      <td>21</td>\n",
       "    </tr>\n",
       "  </tbody>\n",
       "</table>\n",
       "<p>1258 rows × 4 columns</p>\n",
       "</div>"
      ],
      "text/plain": [
       "       product_id product_name  aisle_id  department_id\n",
       "37             38          NaN       100             21\n",
       "71             72          NaN       100             21\n",
       "109           110          NaN       100             21\n",
       "296           297          NaN       100             21\n",
       "416           417          NaN       100             21\n",
       "...           ...          ...       ...            ...\n",
       "49552       49553          NaN       100             21\n",
       "49574       49575          NaN       100             21\n",
       "49640       49641          NaN       100             21\n",
       "49663       49664          NaN       100             21\n",
       "49668       49669          NaN       100             21\n",
       "\n",
       "[1258 rows x 4 columns]"
      ]
     },
     "execution_count": 78,
     "metadata": {},
     "output_type": "execute_result"
    }
   ],
   "source": [
    "# Encontre valores ausentes na coluna 'product_name'\n",
    "df_products[df_products['product_name'].isnull()]"
   ]
  },
  {
   "cell_type": "markdown",
   "id": "-A6x1AbJhjkp",
   "metadata": {
    "id": "-A6x1AbJhjkp"
   },
   "source": [
    "Descreva brevemente suas conclusões."
   ]
  },
  {
   "cell_type": "markdown",
   "id": "d4921560",
   "metadata": {},
   "source": [
    "temos 1258 linhas aonde product name esta nulo XD"
   ]
  },
  {
   "cell_type": "code",
   "execution_count": 79,
   "id": "e96167bc",
   "metadata": {
    "id": "e96167bc"
   },
   "outputs": [
    {
     "data": {
      "text/plain": [
       "np.int64(1258)"
      ]
     },
     "execution_count": 79,
     "metadata": {},
     "output_type": "execute_result"
    }
   ],
   "source": [
    "# Todos os nomes de produtos ausentes estão associados com o corredor de ID 100?\n",
    "df_products[df_products['aisle_id'] == 100]['product_name'].isnull().sum()"
   ]
  },
  {
   "cell_type": "markdown",
   "id": "WRpIfXRphpSL",
   "metadata": {
    "id": "WRpIfXRphpSL"
   },
   "source": [
    "Descreva brevemente suas conclusões."
   ]
  },
  {
   "cell_type": "markdown",
   "id": "96199315",
   "metadata": {},
   "source": [
    "Incrivelmente sim O_o"
   ]
  },
  {
   "cell_type": "code",
   "execution_count": 80,
   "id": "8fd0a541",
   "metadata": {
    "id": "8fd0a541"
   },
   "outputs": [
    {
     "data": {
      "text/plain": [
       "np.int64(1258)"
      ]
     },
     "execution_count": 80,
     "metadata": {},
     "output_type": "execute_result"
    }
   ],
   "source": [
    "# Todos os nomes de produtos ausentes estão associados com o departamento de ID 21? \n",
    "df_products[df_products['department_id'] == 21]['product_name'].isnull().sum()\n"
   ]
  },
  {
   "cell_type": "markdown",
   "id": "3ccaf959",
   "metadata": {},
   "source": [
    "Tambem, esta tudo interligado !!!! "
   ]
  },
  {
   "cell_type": "markdown",
   "id": "qDpdYn1Fht_I",
   "metadata": {
    "id": "qDpdYn1Fht_I"
   },
   "source": [
    "Descreva brevemente suas conclusões."
   ]
  },
  {
   "cell_type": "code",
   "execution_count": 81,
   "id": "325c3464",
   "metadata": {
    "id": "325c3464"
   },
   "outputs": [
    {
     "name": "stdout",
     "output_type": "stream",
     "text": [
      "    aisle_id    aisle\n",
      "99       100  missing\n",
      "    department_id department\n",
      "20             21    missing\n"
     ]
    }
   ],
   "source": [
    "# Use as tabelas department e aisle para verificar os dados do corredor com ID 100 e do departamento com ID 21.\n",
    "aisle_100 = df_aisles[df_aisles['aisle_id'] == 100]\n",
    "department_21 = df_departments[df_departments['department_id'] == 21]\n",
    "\n",
    "print(aisle_100)\n",
    "print(department_21)\n",
    "\n"
   ]
  },
  {
   "cell_type": "markdown",
   "id": "nqhSTUPhhvEJ",
   "metadata": {
    "id": "nqhSTUPhhvEJ"
   },
   "source": [
    "Descreva brevemente suas conclusões."
   ]
  },
  {
   "cell_type": "markdown",
   "id": "6154fea2",
   "metadata": {},
   "source": [
    "parece que o departamento 21 esta com o valor de missing, pode ser que seja por que nao tem nenhum tipo de categoria aquele produto .."
   ]
  },
  {
   "cell_type": "code",
   "execution_count": 82,
   "id": "6b295120",
   "metadata": {
    "id": "6b295120"
   },
   "outputs": [
    {
     "data": {
      "application/vnd.microsoft.datawrangler.viewer.v0+json": {
       "columns": [
        {
         "name": "index",
         "rawType": "int64",
         "type": "integer"
        },
        {
         "name": "product_id",
         "rawType": "int64",
         "type": "integer"
        },
        {
         "name": "product_name",
         "rawType": "object",
         "type": "string"
        },
        {
         "name": "aisle_id",
         "rawType": "int64",
         "type": "integer"
        },
        {
         "name": "department_id",
         "rawType": "int64",
         "type": "integer"
        }
       ],
       "conversionMethod": "pd.DataFrame",
       "ref": "410e059b-e540-4726-b9ef-2184b0778a2e",
       "rows": [],
       "shape": {
        "columns": 4,
        "rows": 0
       }
      },
      "text/html": [
       "<div>\n",
       "<style scoped>\n",
       "    .dataframe tbody tr th:only-of-type {\n",
       "        vertical-align: middle;\n",
       "    }\n",
       "\n",
       "    .dataframe tbody tr th {\n",
       "        vertical-align: top;\n",
       "    }\n",
       "\n",
       "    .dataframe thead th {\n",
       "        text-align: right;\n",
       "    }\n",
       "</style>\n",
       "<table border=\"1\" class=\"dataframe\">\n",
       "  <thead>\n",
       "    <tr style=\"text-align: right;\">\n",
       "      <th></th>\n",
       "      <th>product_id</th>\n",
       "      <th>product_name</th>\n",
       "      <th>aisle_id</th>\n",
       "      <th>department_id</th>\n",
       "    </tr>\n",
       "  </thead>\n",
       "  <tbody>\n",
       "  </tbody>\n",
       "</table>\n",
       "</div>"
      ],
      "text/plain": [
       "Empty DataFrame\n",
       "Columns: [product_id, product_name, aisle_id, department_id]\n",
       "Index: []"
      ]
     },
     "execution_count": 82,
     "metadata": {},
     "output_type": "execute_result"
    }
   ],
   "source": [
    "# Preencha nomes de produtos ausentes com 'Unknown'\n",
    "df_products['product_name'] = df_products['product_name'].fillna('Unknown')\n",
    "df_products[df_products['product_name'].isnull()]"
   ]
  },
  {
   "cell_type": "markdown",
   "id": "fc70e5ad",
   "metadata": {
    "id": "fc70e5ad"
   },
   "source": [
    "Descreva brevemente suas conclusões e o que você fez com elas."
   ]
  },
  {
   "cell_type": "markdown",
   "id": "18f3cd9a",
   "metadata": {},
   "source": [
    "troquei todos os valores de missing por 'Unknown' "
   ]
  },
  {
   "cell_type": "markdown",
   "id": "7eb45c86",
   "metadata": {
    "id": "7eb45c86"
   },
   "source": [
    "### DataFrame `orders`"
   ]
  },
  {
   "cell_type": "code",
   "execution_count": 83,
   "id": "93e41d96",
   "metadata": {
    "id": "93e41d96"
   },
   "outputs": [
    {
     "data": {
      "application/vnd.microsoft.datawrangler.viewer.v0+json": {
       "columns": [
        {
         "name": "index",
         "rawType": "int64",
         "type": "integer"
        },
        {
         "name": "order_id",
         "rawType": "int64",
         "type": "integer"
        },
        {
         "name": "product_id",
         "rawType": "int64",
         "type": "integer"
        },
        {
         "name": "add_to_cart_order",
         "rawType": "float64",
         "type": "float"
        },
        {
         "name": "reordered",
         "rawType": "int64",
         "type": "integer"
        }
       ],
       "conversionMethod": "pd.DataFrame",
       "ref": "342f15bb-a326-4fdb-b6b9-dddceb5aebb1",
       "rows": [
        [
         "737",
         "2449164",
         "5068",
         null,
         "0"
        ],
        [
         "9926",
         "1968313",
         "43867",
         null,
         "0"
        ],
        [
         "14394",
         "2926893",
         "11688",
         null,
         "0"
        ],
        [
         "16418",
         "1717990",
         "4142",
         null,
         "0"
        ],
        [
         "30114",
         "1959075",
         "42828",
         null,
         "1"
        ],
        [
         "34183",
         "844733",
         "32717",
         null,
         "0"
        ],
        [
         "57981",
         "61355",
         "5322",
         null,
         "0"
        ],
        [
         "58228",
         "936852",
         "31373",
         null,
         "1"
        ],
        [
         "62655",
         "264710",
         "40281",
         null,
         "0"
        ],
        [
         "64336",
         "1717990",
         "39408",
         null,
         "0"
        ],
        [
         "67655",
         "1564093",
         "6139",
         null,
         "0"
        ],
        [
         "69773",
         "129627",
         "31372",
         null,
         "0"
        ],
        [
         "70057",
         "264710",
         "41602",
         null,
         "0"
        ],
        [
         "79239",
         "293169",
         "44628",
         null,
         "0"
        ],
        [
         "86905",
         "2849370",
         "37131",
         null,
         "0"
        ],
        [
         "94722",
         "1386261",
         "41007",
         null,
         "0"
        ],
        [
         "98839",
         "3308010",
         "5438",
         null,
         "1"
        ],
        [
         "102527",
         "903110",
         "41960",
         null,
         "1"
        ],
        [
         "103410",
         "2136777",
         "46886",
         null,
         "1"
        ],
        [
         "110274",
         "3347453",
         "47175",
         null,
         "0"
        ],
        [
         "120294",
         "1888628",
         "5621",
         null,
         "0"
        ],
        [
         "120841",
         "165801",
         "4137",
         null,
         "0"
        ],
        [
         "128360",
         "2449164",
         "14386",
         null,
         "0"
        ],
        [
         "130034",
         "2094761",
         "5194",
         null,
         "1"
        ],
        [
         "137029",
         "3347453",
         "30727",
         null,
         "0"
        ],
        [
         "137628",
         "1038146",
         "42110",
         null,
         "1"
        ],
        [
         "137958",
         "2136777",
         "45106",
         null,
         "0"
        ],
        [
         "144645",
         "2997021",
         "29418",
         null,
         "0"
        ],
        [
         "147722",
         "844733",
         "22151",
         null,
         "0"
        ],
        [
         "153946",
         "844733",
         "35221",
         null,
         "0"
        ],
        [
         "170487",
         "2136777",
         "2635",
         null,
         "1"
        ],
        [
         "177291",
         "813364",
         "13798",
         null,
         "0"
        ],
        [
         "178477",
         "165801",
         "6187",
         null,
         "0"
        ],
        [
         "182090",
         "2256933",
         "13457",
         null,
         "1"
        ],
        [
         "193230",
         "171934",
         "18441",
         null,
         "0"
        ],
        [
         "193574",
         "264710",
         "37912",
         null,
         "0"
        ],
        [
         "193859",
         "2449164",
         "8518",
         null,
         "0"
        ],
        [
         "210094",
         "2409109",
         "26587",
         null,
         "0"
        ],
        [
         "219403",
         "3347453",
         "18782",
         null,
         "0"
        ],
        [
         "227858",
         "813364",
         "31215",
         null,
         "0"
        ],
        [
         "235998",
         "2926893",
         "4792",
         null,
         "0"
        ],
        [
         "236073",
         "936852",
         "29926",
         null,
         "1"
        ],
        [
         "237301",
         "1730767",
         "36316",
         null,
         "1"
        ],
        [
         "238286",
         "1169835",
         "16656",
         null,
         "0"
        ],
        [
         "238630",
         "733526",
         "24097",
         null,
         "1"
        ],
        [
         "238768",
         "844733",
         "4421",
         null,
         "0"
        ],
        [
         "240071",
         "293169",
         "18598",
         null,
         "0"
        ],
        [
         "247893",
         "61355",
         "8594",
         null,
         "0"
        ],
        [
         "250788",
         "903110",
         "2180",
         null,
         "1"
        ],
        [
         "251111",
         "1968313",
         "23995",
         null,
         "1"
        ]
       ],
       "shape": {
        "columns": 4,
        "rows": 836
       }
      },
      "text/html": [
       "<div>\n",
       "<style scoped>\n",
       "    .dataframe tbody tr th:only-of-type {\n",
       "        vertical-align: middle;\n",
       "    }\n",
       "\n",
       "    .dataframe tbody tr th {\n",
       "        vertical-align: top;\n",
       "    }\n",
       "\n",
       "    .dataframe thead th {\n",
       "        text-align: right;\n",
       "    }\n",
       "</style>\n",
       "<table border=\"1\" class=\"dataframe\">\n",
       "  <thead>\n",
       "    <tr style=\"text-align: right;\">\n",
       "      <th></th>\n",
       "      <th>order_id</th>\n",
       "      <th>product_id</th>\n",
       "      <th>add_to_cart_order</th>\n",
       "      <th>reordered</th>\n",
       "    </tr>\n",
       "  </thead>\n",
       "  <tbody>\n",
       "    <tr>\n",
       "      <th>737</th>\n",
       "      <td>2449164</td>\n",
       "      <td>5068</td>\n",
       "      <td>NaN</td>\n",
       "      <td>0</td>\n",
       "    </tr>\n",
       "    <tr>\n",
       "      <th>9926</th>\n",
       "      <td>1968313</td>\n",
       "      <td>43867</td>\n",
       "      <td>NaN</td>\n",
       "      <td>0</td>\n",
       "    </tr>\n",
       "    <tr>\n",
       "      <th>14394</th>\n",
       "      <td>2926893</td>\n",
       "      <td>11688</td>\n",
       "      <td>NaN</td>\n",
       "      <td>0</td>\n",
       "    </tr>\n",
       "    <tr>\n",
       "      <th>16418</th>\n",
       "      <td>1717990</td>\n",
       "      <td>4142</td>\n",
       "      <td>NaN</td>\n",
       "      <td>0</td>\n",
       "    </tr>\n",
       "    <tr>\n",
       "      <th>30114</th>\n",
       "      <td>1959075</td>\n",
       "      <td>42828</td>\n",
       "      <td>NaN</td>\n",
       "      <td>1</td>\n",
       "    </tr>\n",
       "    <tr>\n",
       "      <th>...</th>\n",
       "      <td>...</td>\n",
       "      <td>...</td>\n",
       "      <td>...</td>\n",
       "      <td>...</td>\n",
       "    </tr>\n",
       "    <tr>\n",
       "      <th>4505662</th>\n",
       "      <td>1800005</td>\n",
       "      <td>7411</td>\n",
       "      <td>NaN</td>\n",
       "      <td>0</td>\n",
       "    </tr>\n",
       "    <tr>\n",
       "      <th>4511400</th>\n",
       "      <td>1633337</td>\n",
       "      <td>260</td>\n",
       "      <td>NaN</td>\n",
       "      <td>0</td>\n",
       "    </tr>\n",
       "    <tr>\n",
       "      <th>4517562</th>\n",
       "      <td>404157</td>\n",
       "      <td>9517</td>\n",
       "      <td>NaN</td>\n",
       "      <td>0</td>\n",
       "    </tr>\n",
       "    <tr>\n",
       "      <th>4534112</th>\n",
       "      <td>1673227</td>\n",
       "      <td>17835</td>\n",
       "      <td>NaN</td>\n",
       "      <td>0</td>\n",
       "    </tr>\n",
       "    <tr>\n",
       "      <th>4535739</th>\n",
       "      <td>1832957</td>\n",
       "      <td>17949</td>\n",
       "      <td>NaN</td>\n",
       "      <td>1</td>\n",
       "    </tr>\n",
       "  </tbody>\n",
       "</table>\n",
       "<p>836 rows × 4 columns</p>\n",
       "</div>"
      ],
      "text/plain": [
       "         order_id  product_id  add_to_cart_order  reordered\n",
       "737       2449164        5068                NaN          0\n",
       "9926      1968313       43867                NaN          0\n",
       "14394     2926893       11688                NaN          0\n",
       "16418     1717990        4142                NaN          0\n",
       "30114     1959075       42828                NaN          1\n",
       "...           ...         ...                ...        ...\n",
       "4505662   1800005        7411                NaN          0\n",
       "4511400   1633337         260                NaN          0\n",
       "4517562    404157        9517                NaN          0\n",
       "4534112   1673227       17835                NaN          0\n",
       "4535739   1832957       17949                NaN          1\n",
       "\n",
       "[836 rows x 4 columns]"
      ]
     },
     "execution_count": 83,
     "metadata": {},
     "output_type": "execute_result"
    }
   ],
   "source": [
    "# Encontre os valores ausentes\n",
    "df_orders_products[df_orders_products['add_to_cart_order'].isnull()]"
   ]
  },
  {
   "cell_type": "code",
   "execution_count": 84,
   "id": "166e5a86",
   "metadata": {
    "id": "166e5a86"
   },
   "outputs": [
    {
     "data": {
      "text/plain": [
       "np.int64(319)"
      ]
     },
     "execution_count": 84,
     "metadata": {},
     "output_type": "execute_result"
    }
   ],
   "source": [
    "# Há valores ausentes para os clientes que não estão fazendo o primeiro pedido? \n",
    "df_orders_products[df_orders_products['reordered'] == 1]['add_to_cart_order'].isnull().sum()\n"
   ]
  },
  {
   "cell_type": "markdown",
   "id": "4e23d089",
   "metadata": {
    "id": "4e23d089"
   },
   "source": [
    "Descreva brevemente suas conclusões e o que você fez com elas."
   ]
  },
  {
   "cell_type": "markdown",
   "id": "5fff0ed2",
   "metadata": {},
   "source": [
    "tenho 319 valores nulos de que cliente que nao estao fazendo a primeira compra/pedido ... "
   ]
  },
  {
   "cell_type": "markdown",
   "id": "69dc9ca4",
   "metadata": {
    "id": "69dc9ca4"
   },
   "source": [
    "### DataFrame `order_products`"
   ]
  },
  {
   "cell_type": "code",
   "execution_count": 85,
   "id": "b8240253",
   "metadata": {
    "id": "b8240253"
   },
   "outputs": [
    {
     "data": {
      "text/plain": [
       "order_id               0\n",
       "product_id             0\n",
       "add_to_cart_order    836\n",
       "reordered              0\n",
       "dtype: int64"
      ]
     },
     "execution_count": 85,
     "metadata": {},
     "output_type": "execute_result"
    }
   ],
   "source": [
    "# Encontre os valores ausentes\n",
    "df_orders_products.isnull().sum()"
   ]
  },
  {
   "cell_type": "code",
   "execution_count": 86,
   "id": "9a78e5ee",
   "metadata": {
    "id": "9a78e5ee"
   },
   "outputs": [
    {
     "data": {
      "text/plain": [
       "(np.float64(1.0), np.float64(64.0))"
      ]
     },
     "execution_count": 86,
     "metadata": {},
     "output_type": "execute_result"
    }
   ],
   "source": [
    "# Quais são os valores mínimo e máximo dessa coluna?\n",
    "df_orders_products['add_to_cart_order'].min(), df_orders_products['add_to_cart_order'].max()"
   ]
  },
  {
   "cell_type": "markdown",
   "id": "-Z2Ja215jW78",
   "metadata": {
    "id": "-Z2Ja215jW78"
   },
   "source": [
    "Descreva brevemente suas conclusões."
   ]
  },
  {
   "cell_type": "markdown",
   "id": "77e7c14c",
   "metadata": {},
   "source": [
    "1 minimo, e 64 max... "
   ]
  },
  {
   "cell_type": "code",
   "execution_count": 87,
   "id": "ab9d0c2b",
   "metadata": {
    "id": "ab9d0c2b"
   },
   "outputs": [],
   "source": [
    "# Salve todos os IDs dos pedidos com pelo menos um valor ausente em 'add_to_cart_order'\n",
    "missing_add_to_cart_order = df_orders_products[df_orders_products['add_to_cart_order'].isnull()]['order_id'].unique()"
   ]
  },
  {
   "cell_type": "code",
   "execution_count": 90,
   "id": "54c31695",
   "metadata": {
    "id": "54c31695"
   },
   "outputs": [
    {
     "name": "stdout",
     "output_type": "stream",
     "text": [
      "Menor quantidade de produtos entre os pedidos com dados ausentes: 65\n",
      "Todos têm mais de 64 produtos? True\n"
     ]
    },
    {
     "data": {
      "text/plain": [
       "order_id\n",
       "9310       65\n",
       "61355     127\n",
       "102236     95\n",
       "129627     69\n",
       "165801     70\n",
       "Name: product_id, dtype: int64"
      ]
     },
     "execution_count": 90,
     "metadata": {},
     "output_type": "execute_result"
    }
   ],
   "source": [
    "# Todos os pedidos com valores ausentes contêm mais de 64 produtos?\n",
    "# Agrupe os pedidos com dados ausentes por ID de pedido\n",
    "# Conte o número de 'product_id' em cada pedido e verifique o valor mínimo da contagem\n",
    "missing_add_to_cart = df_orders_products[df_orders_products['add_to_cart_order'].isnull()][\"order_id\"].unique()\n",
    "product_counts = df_orders_products[df_orders_products[\"order_id\"].isin(missing_add_to_cart)].groupby('order_id')['product_id'].count()\n",
    "min_products = product_counts.min()\n",
    "all_above_64 = min_products > 64\n",
    "#CONCLUSAO: SIM, todos os pedidos com dados ausentes tem mais de 64 produtos\n",
    "print(f\"Menor quantidade de produtos entre os pedidos com dados ausentes: {min_products}\")\n",
    "print(f\"Todos têm mais de 64 produtos? {all_above_64}\")\n",
    "\n",
    "product_counts.head()\n"
   ]
  },
  {
   "cell_type": "markdown",
   "id": "p9V6pddtjglj",
   "metadata": {
    "id": "p9V6pddtjglj"
   },
   "source": [
    "Descreva brevemente suas conclusões."
   ]
  },
  {
   "cell_type": "markdown",
   "id": "be82ed3c",
   "metadata": {},
   "source": [
    "Menor quantidade de produtos entre os pedidos com dados ausentes: 1\n",
    "Todos têm mais de 64 produtos? False\n",
    "\n",
    "repeat Print XD"
   ]
  },
  {
   "cell_type": "code",
   "execution_count": 34,
   "id": "7a987d08",
   "metadata": {
    "id": "7a987d08"
   },
   "outputs": [],
   "source": [
    "# Substitua valores ausentes na coluna 'add_to_cart_order' por 999 e converta a coluna para o tipo integer\n",
    "df_orders_products['add_to_cart_order'] = df_orders_products['add_to_cart_order'].fillna(999).astype(int)\n"
   ]
  },
  {
   "cell_type": "markdown",
   "id": "fea4bcc7",
   "metadata": {
    "id": "fea4bcc7"
   },
   "source": [
    "Descreva brevemente suas conclusões e o que você fez com elas."
   ]
  },
  {
   "cell_type": "markdown",
   "id": "fa67e0f6",
   "metadata": {},
   "source": [
    "aqui fizemos alguns filtros e depois substitui os valores ausentes por 999 e converti em int64 xd "
   ]
  },
  {
   "cell_type": "markdown",
   "id": "RnplPFY1gSrb",
   "metadata": {
    "id": "RnplPFY1gSrb"
   },
   "source": [
    "## Conclusões\n",
    "\n",
    "Escreva aqui suas conclusões intermediárias da Etapa 2. Preparação de dados"
   ]
  },
  {
   "cell_type": "markdown",
   "id": "e0f61a60",
   "metadata": {},
   "source": [
    "Tivemos aqui um trabalho sensivel, tivemos que mudar valores de varios dataframes. mudamos valores nulos descobrimos mais padroes em valores duplicados, em geral deixamos os dados mais limpos para caso usemos para tira conclusoes ou para usar em algum modelo de regressao linear e etc.. "
   ]
  },
  {
   "cell_type": "markdown",
   "id": "UjrOIwTcz3ri",
   "metadata": {
    "id": "UjrOIwTcz3ri"
   },
   "source": [
    "# Etapa 3. Análise de dados\n",
    "\n",
    "Quando os dados estiverem processados ​​e prontos, execute a seguinte análise:"
   ]
  },
  {
   "cell_type": "markdown",
   "id": "turkish-kidney",
   "metadata": {
    "id": "turkish-kidney"
   },
   "source": [
    "# [A] Fácil (é necessário concluir tudo para passar)\n",
    "\n",
    "1.\tVerifique se os valores nas colunas `'order_hour_of_day'` e `'order_dow'` na tabela `orders` fazem sentido (ou seja, os valores da coluna  `'order_hour_of_day'` variam de 0 a 23 e os da `'order_dow'` variam de 0 a 6).\n",
    "2.\tCrie um gráfico que mostre quantas pessoas fazem pedidos a cada hora do dia.\n",
    "3.\tCrie um gráfico que mostre em que dia da semana as pessoas fazem compras.\n",
    "4.\tCrie um gráfico que mostre quanto tempo as pessoas esperam até fazer seu próximo pedido e comente sobre os valores mínimo e máximo.\n"
   ]
  },
  {
   "cell_type": "markdown",
   "id": "short-capability",
   "metadata": {
    "id": "short-capability"
   },
   "source": [
    "### [A1] Verifique se os valores fazem sentido"
   ]
  },
  {
   "cell_type": "code",
   "execution_count": 35,
   "id": "growing-fruit",
   "metadata": {
    "id": "growing-fruit"
   },
   "outputs": [
    {
     "name": "stdout",
     "output_type": "stream",
     "text": [
      "Máx hora do dia: 23\n",
      "Mín hora do dia: 0\n",
      "Máx dia da semana: 6\n",
      "Mín dia da semana: 0\n"
     ]
    }
   ],
   "source": [
    "print(\"Máx hora do dia:\", df_inscart_orders['order_hour_of_day'].max())  # 23\n",
    "print(\"Mín hora do dia:\", df_inscart_orders['order_hour_of_day'].min())  # 0\n",
    "\n",
    "print(\"Máx dia da semana:\", df_inscart_orders['order_dow'].max())        # 6\n",
    "print(\"Mín dia da semana:\", df_inscart_orders['order_dow'].min())        # 0"
   ]
  },
  {
   "cell_type": "markdown",
   "id": "hmR2GNQ6lCsX",
   "metadata": {
    "id": "hmR2GNQ6lCsX"
   },
   "source": [
    "Escreva suas conclusões aqui"
   ]
  },
  {
   "cell_type": "markdown",
   "id": "c34e324d",
   "metadata": {},
   "source": [
    "Depois do 10 dia apos a compra a recorrencia cai, porem temos pico de movimento nos primeiros 7 dias e ainda mais depois em 30 dias.. "
   ]
  },
  {
   "cell_type": "markdown",
   "id": "a6743a70",
   "metadata": {
    "id": "a6743a70"
   },
   "source": [
    "### [A2] Quantas pessoas fazem pedidos a cada hora do dia?"
   ]
  },
  {
   "cell_type": "code",
   "execution_count": 36,
   "id": "a36cca27",
   "metadata": {
    "id": "a36cca27"
   },
   "outputs": [
    {
     "data": {
      "image/png": "[encoded data removed]",
      "text/plain": [
       "<Figure size 1200x500 with 1 Axes>"
      ]
     },
     "metadata": {},
     "output_type": "display_data"
    }
   ],
   "source": [
    "import matplotlib.pyplot as plt\n",
    "import seaborn as sns\n",
    "\n",
    "plt.figure(figsize=(12, 5))\n",
    "sns.countplot(x='order_hour_of_day', data=df_inscart_orders)\n",
    "plt.title('Pedidos por Hora do Dia')\n",
    "plt.xlabel('Hora do Dia (0–23)')\n",
    "plt.ylabel('Número de Pedidos')\n",
    "plt.xticks(rotation=45)\n",
    "plt.show()\n"
   ]
  },
  {
   "cell_type": "markdown",
   "id": "11270eed",
   "metadata": {
    "id": "11270eed"
   },
   "source": [
    "Escreva suas conclusões aqui"
   ]
  },
  {
   "cell_type": "markdown",
   "id": "76d1d41c",
   "metadata": {},
   "source": [
    "O pico comeca depois das 18 e vai caindo depois das 19.. \n"
   ]
  },
  {
   "cell_type": "markdown",
   "id": "documented-command",
   "metadata": {
    "id": "documented-command"
   },
   "source": [
    "### [A3] Em que dia da semana as pessoas compram produtos alimentícios?"
   ]
  },
  {
   "cell_type": "code",
   "execution_count": 37,
   "id": "chief-digit",
   "metadata": {
    "id": "chief-digit"
   },
   "outputs": [
    {
     "data": {
      "image/png": "[encoded data removed]",
      "text/plain": [
       "<Figure size 1000x500 with 1 Axes>"
      ]
     },
     "metadata": {},
     "output_type": "display_data"
    }
   ],
   "source": [
    "plt.figure(figsize=(10, 5))\n",
    "sns.countplot(x='order_dow', data=df_inscart_orders)\n",
    "plt.title('Pedidos por Dia da Semana')\n",
    "plt.xlabel('Dia da Semana (0=Domingo, 6=Sábado)')\n",
    "plt.ylabel('Número de Pedidos')\n",
    "plt.show()\n"
   ]
  },
  {
   "cell_type": "markdown",
   "id": "dominant-lightning",
   "metadata": {
    "id": "dominant-lightning"
   },
   "source": [
    "Escreva suas conclusões aqui"
   ]
  },
  {
   "cell_type": "markdown",
   "id": "bcad1767",
   "metadata": {},
   "source": [
    "Domingo e segunda sao os melhors dias, porem nao sai muito da media.. "
   ]
  },
  {
   "cell_type": "markdown",
   "id": "cutting-concert",
   "metadata": {
    "id": "cutting-concert"
   },
   "source": [
    "### [A4] Quanto tempo as pessoas esperam até fazer outro pedido?"
   ]
  },
  {
   "cell_type": "code",
   "execution_count": 38,
   "id": "gMOIimGd5VNb",
   "metadata": {
    "id": "gMOIimGd5VNb"
   },
   "outputs": [
    {
     "data": {
      "image/png": "[encoded data removed]",
      "text/plain": [
       "<Figure size 1000x500 with 1 Axes>"
      ]
     },
     "metadata": {},
     "output_type": "display_data"
    },
    {
     "name": "stdout",
     "output_type": "stream",
     "text": [
      "Mínimo: 0.0\n",
      "Máximo: 30.0\n"
     ]
    }
   ],
   "source": [
    "plt.figure(figsize=(10, 5))\n",
    "sns.histplot(df_inscart_orders['days_since_prior_order'], bins=30, kde=True)\n",
    "plt.title('Dias Até o Próximo Pedido')\n",
    "plt.xlabel('Dias desde o pedido anterior')\n",
    "plt.ylabel('Quantidade de Pedidos')\n",
    "plt.show()\n",
    "\n",
    "# Valores mínimo e máximo\n",
    "print(\"Mínimo:\", df_inscart_orders['days_since_prior_order'].min())\n",
    "print(\"Máximo:\", df_inscart_orders['days_since_prior_order'].max())"
   ]
  },
  {
   "cell_type": "markdown",
   "id": "discrete-vertex",
   "metadata": {
    "id": "discrete-vertex"
   },
   "source": [
    "Escreva suas conclusões aqui"
   ]
  },
  {
   "cell_type": "markdown",
   "id": "0584237e",
   "metadata": {},
   "source": [
    "Depois do 10 dia apos a compra a recorrencia cai, porem temos pico de movimento nos primeiros 7 dias e ainda mais depois em 30 dias.. "
   ]
  },
  {
   "cell_type": "markdown",
   "id": "tight-staff",
   "metadata": {
    "id": "tight-staff"
   },
   "source": [
    "# [B] Médio (é necessário concluir tudo para passar)\n",
    "\n",
    "1.\tHá alguma diferença nas distribuições de `'order_hour_of_day'` nas quartas e sábados? Construa gráficos de barras para ambos os dias no mesmo gráfico e descreva as diferenças que você notou.\n",
    "2.\tConstrua um gráfico de distribuição para o número de pedidos que os clientes fazem (ou seja, quantos clientes fizeram apenas 1 pedido, quantos fizeram apenas 2, quantos apenas 3, etc.)\n",
    "3.\tQuais são os 20 produtos comprados com mais frequência? Exiba os IDs e nomes.\n"
   ]
  },
  {
   "cell_type": "markdown",
   "id": "packed-classic",
   "metadata": {
    "id": "packed-classic"
   },
   "source": [
    "### [B1] Diferenças nas quartas e sábados em `'order_hour_of_day'`. Crie gráficos de barras para ambos os dias e descreva as diferenças."
   ]
  },
  {
   "cell_type": "code",
   "execution_count": 39,
   "id": "d89b8403",
   "metadata": {
    "id": "d89b8403"
   },
   "outputs": [
    {
     "data": {
      "image/png": "[encoded data removed]",
      "text/plain": [
       "<Figure size 1200x500 with 1 Axes>"
      ]
     },
     "metadata": {},
     "output_type": "display_data"
    }
   ],
   "source": [
    "quartas_df_inscart_orders = df_inscart_orders[df_inscart_orders['order_dow'] == 3]\n",
    "sabados_df_inscart_orders = df_inscart_orders[df_inscart_orders['order_dow'] == 6]\n",
    "\n",
    "\n",
    "plt.figure(figsize=(12, 5))\n",
    "sns.histplot(quartas_df_inscart_orders['order_hour_of_day'], bins=24, color='blue', label='Quarta', kde=False, stat='count', alpha=0.6)\n",
    "sns.histplot(sabados_df_inscart_orders['order_hour_of_day'], bins=24, color='orange', label='Sábado', kde=False, stat='count', alpha=0.6)\n",
    "plt.title('Distribuição da Hora dos Pedidos: Quarta vs Sábado')\n",
    "plt.xlabel('Hora do Dia')\n",
    "plt.ylabel('Número de Pedidos')\n",
    "plt.legend()\n",
    "plt.xticks(range(0, 24))\n",
    "plt.show()"
   ]
  },
  {
   "cell_type": "markdown",
   "id": "charitable-congo",
   "metadata": {
    "id": "charitable-congo"
   },
   "source": [
    "Escreva suas conclusões aqui"
   ]
  },
  {
   "cell_type": "markdown",
   "id": "a05f4cd9",
   "metadata": {},
   "source": [
    "pico semelhante de 10 e 14, ambos os dias de 0 as 7 o numero de pedidos e bem baixo. quarta tem um periodo mais estavel e de 17 a 19, sabado tem um pico maior de 13 as 14"
   ]
  },
  {
   "cell_type": "markdown",
   "id": "e3891143",
   "metadata": {
    "id": "e3891143"
   },
   "source": [
    "### [B2] Qual é a distribuição do número de pedidos por cliente?"
   ]
  },
  {
   "cell_type": "code",
   "execution_count": 40,
   "id": "d8c26c23",
   "metadata": {
    "id": "d8c26c23"
   },
   "outputs": [
    {
     "data": {
      "image/png": "[encoded data removed]",
      "text/plain": [
       "<Figure size 1200x500 with 1 Axes>"
      ]
     },
     "metadata": {},
     "output_type": "display_data"
    }
   ],
   "source": [
    "# Contar número de pedidos por cliente\n",
    "pedidos_por_usuario = df_inscart_orders['user_id'].value_counts()\n",
    "\n",
    "# Contar quantos clientes fizeram 1 pedido, 2, 3, etc.\n",
    "distribuicao = pedidos_por_usuario.value_counts().sort_index()\n",
    "\n",
    "# Gráfico\n",
    "plt.figure(figsize=(12, 5))\n",
    "sns.barplot(x=distribuicao.index, y=distribuicao.values)\n",
    "plt.title('Distribuição do Número de Pedidos por Cliente')\n",
    "plt.xlabel('Número de Pedidos')\n",
    "plt.ylabel('Quantidade de Clientes')\n",
    "plt.show()\n"
   ]
  },
  {
   "cell_type": "markdown",
   "id": "d2eff7d5",
   "metadata": {
    "id": "d2eff7d5"
   },
   "source": [
    "Escreva suas conclusões aqui"
   ]
  },
  {
   "cell_type": "markdown",
   "id": "248dfa4c",
   "metadata": {},
   "source": [
    "A maioria dos clientes faz apenas 1 pedido. isso e mal!!! sinal que a loja tem pouca recorrencia. "
   ]
  },
  {
   "cell_type": "markdown",
   "id": "54a0319c",
   "metadata": {
    "id": "54a0319c"
   },
   "source": [
    "### [B3] Quais são os 20 produtos mais populares? Exiba os IDs e nomes."
   ]
  },
  {
   "cell_type": "code",
   "execution_count": 41,
   "id": "exterior-arizona",
   "metadata": {
    "id": "exterior-arizona",
    "scrolled": true
   },
   "outputs": [
    {
     "name": "stderr",
     "output_type": "stream",
     "text": [
      "C:\\Users\\Doit\\AppData\\Local\\Temp\\ipykernel_27144\\2247420298.py:16: FutureWarning: \n",
      "\n",
      "Passing `palette` without assigning `hue` is deprecated and will be removed in v0.14.0. Assign the `y` variable to `hue` and set `legend=False` for the same effect.\n",
      "\n",
      "  sns.barplot(\n"
     ]
    },
    {
     "data": {
      "image/png": "[encoded data removed]",
      "text/plain": [
       "<Figure size 1200x600 with 1 Axes>"
      ]
     },
     "metadata": {},
     "output_type": "display_data"
    }
   ],
   "source": [
    "# 1. Contar quantas vezes cada produto foi comprado\n",
    "vendas_por_produto = df_orders_products['product_id'].value_counts().reset_index()\n",
    "vendas_por_produto.columns = ['product_id', 'total_compras']\n",
    "\n",
    "# 2. Juntar com os nomes dos produtos (merge)\n",
    "top_produtos = vendas_por_produto.merge(df_products[['product_id', 'product_name']], on='product_id', how='left')\n",
    "\n",
    "# 3. Pegar os 20 mais vendidos\n",
    "top_20 = top_produtos.head(20)\n",
    "\n",
    "# 4. Plotar\n",
    "import seaborn as sns\n",
    "import matplotlib.pyplot as plt\n",
    "\n",
    "plt.figure(figsize=(12, 6))\n",
    "sns.barplot(\n",
    "    x='total_compras',\n",
    "    y='product_name',\n",
    "    data=top_20,\n",
    "    palette='Blues_d',\n",
    "    hue=None\n",
    ")\n",
    "plt.title('Top 20 Produtos Mais Comprados')\n",
    "plt.xlabel('Número de Compras')\n",
    "plt.ylabel('Produto')\n",
    "plt.tight_layout()\n",
    "plt.show()\n"
   ]
  },
  {
   "cell_type": "markdown",
   "id": "7df00f47",
   "metadata": {
    "id": "7df00f47"
   },
   "source": [
    "Escreva suas conclusões aqui"
   ]
  },
  {
   "cell_type": "markdown",
   "id": "2b55b52f",
   "metadata": {},
   "source": [
    "Banana é o produto mais vendido disparado KKK , frutas e vegetais sao os mais populares. e padrao de consumidores buscando algo mais saudavel. "
   ]
  },
  {
   "cell_type": "markdown",
   "id": "gross-theme",
   "metadata": {
    "id": "gross-theme"
   },
   "source": [
    "# [C] Difícil (é necessário concluir pelo menos duas perguntas para passar)\n",
    "\n",
    "1.\tQuantos itens as pessoas normalmente compram em um pedido? Como fica a distribuição?\n",
    "2.\tQuais são os 20 principais itens incluídos mais frequentemente em pedidos repetidos? Exiba os IDs e nomes.\n",
    "3.\tPara cada produto, qual parcela de seus pedidos são repetidos? Crie uma tabela com colunas de ID e nome do produto e a proporção de pedidos repetidos.\n",
    "4.\tPara cada cliente, qual proporção de todos os seus pedidos são repetidos?\n",
    "5.\tQuais são os 20 principais itens que as pessoas colocam nos carrinhos antes de todos os outros? Exiba o ID do produto, nome e o número de vezes que ele foi o primeiro a ser adicionado a um carrinho.\n"
   ]
  },
  {
   "cell_type": "markdown",
   "id": "romantic-deposit",
   "metadata": {
    "id": "romantic-deposit"
   },
   "source": [
    "### [C1] Quantos itens as pessoas normalmente compram em um pedido? Como fica a distribuição?"
   ]
  },
  {
   "cell_type": "code",
   "execution_count": 42,
   "id": "virtual-punch",
   "metadata": {
    "id": "virtual-punch"
   },
   "outputs": [
    {
     "name": "stdout",
     "output_type": "stream",
     "text": [
      "count    450046.000000\n",
      "mean         10.098983\n",
      "std           7.540206\n",
      "min           1.000000\n",
      "25%           5.000000\n",
      "50%           8.000000\n",
      "75%          14.000000\n",
      "max         127.000000\n",
      "Name: product_id, dtype: float64\n"
     ]
    },
    {
     "data": {
      "image/png": "[encoded data removed]",
      "text/plain": [
       "<Figure size 1000x500 with 1 Axes>"
      ]
     },
     "metadata": {},
     "output_type": "display_data"
    }
   ],
   "source": [
    "# Contar quantos produtos por pedido\n",
    "itens_por_pedido = df_orders_products.groupby('order_id')['product_id'].count()\n",
    "\n",
    "\n",
    "print(itens_por_pedido.describe())\n",
    "\n",
    "plt.figure(figsize=(10, 5))\n",
    "sns.histplot(itens_por_pedido, bins=35, kde=False)\n",
    "plt.title('Distribuição do Número de Itens por Pedido')\n",
    "plt.xlabel('Quantidade de Itens')\n",
    "plt.ylabel('Número de Pedidos')\n",
    "plt.show()"
   ]
  },
  {
   "cell_type": "code",
   "execution_count": null,
   "id": "sensitive-breathing",
   "metadata": {
    "id": "sensitive-breathing"
   },
   "outputs": [],
   "source": []
  },
  {
   "cell_type": "code",
   "execution_count": null,
   "id": "completed-frank",
   "metadata": {
    "id": "completed-frank"
   },
   "outputs": [],
   "source": []
  },
  {
   "cell_type": "markdown",
   "id": "designed-mortality",
   "metadata": {
    "id": "designed-mortality"
   },
   "source": [
    "Escreva suas conclusões aqui"
   ]
  },
  {
   "cell_type": "markdown",
   "id": "d20577bb",
   "metadata": {},
   "source": [
    "Total de pedidos analisados: 450.046\n",
    "\n",
    "Média de itens por pedido: 10,1\n",
    "\n",
    "Desvio padrão: 7,5 (alguma variação entre os pedidos)\n",
    "\n",
    "Mínimo: 1 item\n",
    "\n",
    "Mediana (50%): 8 itens\n",
    "\n",
    "3º quartil (75%): 14 itens\n",
    "\n",
    "Máximo: 127 itens em um único pedido"
   ]
  },
  {
   "cell_type": "markdown",
   "id": "5e6b5537",
   "metadata": {
    "id": "5e6b5537"
   },
   "source": [
    "### [C2] Quais são os 20 principais itens incluídos com mais frequência em pedidos repetidos? Exiba os IDs e nomes."
   ]
  },
  {
   "cell_type": "code",
   "execution_count": 43,
   "id": "9374e55a",
   "metadata": {
    "id": "9374e55a"
   },
   "outputs": [
    {
     "name": "stdout",
     "output_type": "stream",
     "text": [
      "    product_id              product_name  repeticoes\n",
      "0        24852                    Banana       55763\n",
      "1        13176    Bag of Organic Bananas       44450\n",
      "2        21137      Organic Strawberries       28639\n",
      "3        21903      Organic Baby Spinach       26233\n",
      "4        47209      Organic Hass Avocado       23629\n",
      "5        47766           Organic Avocado       18743\n",
      "6        27845        Organic Whole Milk       16251\n",
      "7        47626               Large Lemon       15044\n",
      "8        27966       Organic Raspberries       14748\n",
      "9        16797              Strawberries       13945\n",
      "10       26209                     Limes       13327\n",
      "11       22935      Organic Yellow Onion       11145\n",
      "12       24964            Organic Garlic       10411\n",
      "13       45007          Organic Zucchini       10076\n",
      "14       49683            Cucumber Kirby        9538\n",
      "15       28204        Organic Fuji Apple        8989\n",
      "16        8277  Apple Honeycrisp Organic        8836\n",
      "17       39275       Organic Blueberries        8799\n",
      "18        5876             Organic Lemon        8412\n",
      "19       49235       Organic Half & Half        8389\n"
     ]
    },
    {
     "name": "stderr",
     "output_type": "stream",
     "text": [
      "C:\\Users\\Doit\\AppData\\Local\\Temp\\ipykernel_27144\\704395965.py:15: FutureWarning: \n",
      "\n",
      "Passing `palette` without assigning `hue` is deprecated and will be removed in v0.14.0. Assign the `y` variable to `hue` and set `legend=False` for the same effect.\n",
      "\n",
      "  sns.barplot(\n"
     ]
    },
    {
     "data": {
      "image/png": "[encoded data removed]",
      "text/plain": [
       "<Figure size 1200x600 with 1 Axes>"
      ]
     },
     "metadata": {},
     "output_type": "display_data"
    }
   ],
   "source": [
    "# Filtrar apenas os produtos que foram reorder == 1\n",
    "repetidos = df_orders_products[df_orders_products['reordered'] == 1]\n",
    "\n",
    "# Contar os mais frequentes\n",
    "top_repetidos = repetidos['product_id'].value_counts().head(20).reset_index()\n",
    "top_repetidos.columns = ['product_id', 'repeticoes']\n",
    "\n",
    "# Juntar com nomes\n",
    "top_repetidos = top_repetidos.merge(df_products[['product_id', 'product_name']], on='product_id')\n",
    "\n",
    "print(top_repetidos[['product_id', 'product_name', 'repeticoes']])\n",
    "\n",
    "\n",
    "plt.figure(figsize=(12, 6))\n",
    "sns.barplot(\n",
    "    x='repeticoes',\n",
    "    y='product_name',\n",
    "    data=top_repetidos,\n",
    "    palette='Blues_d',\n",
    "    hue=None\n",
    ")\n",
    "plt.title('Top 20 Produtos Mais Repetidos em Pedidos')\n",
    "plt.xlabel('Número de Repetições')\n",
    "plt.ylabel('Produto')\n",
    "plt.tight_layout()\n",
    "plt.show()"
   ]
  },
  {
   "cell_type": "markdown",
   "id": "80e70c74",
   "metadata": {
    "id": "80e70c74"
   },
   "source": [
    "Escreva suas conclusões aqui"
   ]
  },
  {
   "cell_type": "markdown",
   "id": "ccd4b0a2",
   "metadata": {},
   "source": [
    "Banana, Morango orgânico e Espinafre. Esses itens aparecem direto nos pedidos repetidos, o que mostra que a galera realmente gosta e recompra com frequência."
   ]
  },
  {
   "cell_type": "markdown",
   "id": "9d312b14",
   "metadata": {
    "id": "9d312b14"
   },
   "source": [
    "### [C3] Para cada produto, qual parcela de todos os pedidos dele são repetidos?"
   ]
  },
  {
   "cell_type": "code",
   "execution_count": 44,
   "id": "8ae9f4b1",
   "metadata": {
    "id": "8ae9f4b1"
   },
   "outputs": [
    {
     "name": "stdout",
     "output_type": "stream",
     "text": [
      "   product_id  proporcao_repetida  \\\n",
      "0           1            0.564286   \n",
      "1           2            0.000000   \n",
      "2           3            0.738095   \n",
      "3           4            0.510204   \n",
      "4           7            0.500000   \n",
      "\n",
      "                                        product_name  \n",
      "0                         Chocolate Sandwich Cookies  \n",
      "1                                   All-Seasons Salt  \n",
      "2               Robust Golden Unsweetened Oolong Tea  \n",
      "3  Smart Ones Classic Favorites Mini Rigatoni Wit...  \n",
      "4                     Pure Coconut Water With Orange  \n"
     ]
    },
    {
     "name": "stderr",
     "output_type": "stream",
     "text": [
      "C:\\Users\\Doit\\AppData\\Local\\Temp\\ipykernel_27144\\801928572.py:24: FutureWarning: \n",
      "\n",
      "Passing `palette` without assigning `hue` is deprecated and will be removed in v0.14.0. Assign the `y` variable to `hue` and set `legend=False` for the same effect.\n",
      "\n",
      "  sns.barplot(\n"
     ]
    },
    {
     "data": {
      "image/png": "[encoded data removed]",
      "text/plain": [
       "<Figure size 1200x600 with 1 Axes>"
      ]
     },
     "metadata": {},
     "output_type": "display_data"
    }
   ],
   "source": [
    "\n",
    "total_por_produto = df_orders_products.groupby('product_id')['reordered'].count()\n",
    "repeticoes_por_produto = df_orders_products.groupby('product_id')['reordered'].sum()\n",
    "\n",
    "\n",
    "proporcao = (repeticoes_por_produto / total_por_produto).reset_index()\n",
    "proporcao.columns = ['product_id', 'proporcao_repetida']\n",
    "\n",
    "\n",
    "proporcao = proporcao.merge(df_products[['product_id', 'product_name']], on='product_id')\n",
    "\n",
    "print(proporcao.head())\n",
    "\n",
    "# Selecionar os 20 \n",
    "proporcao_filtrada = proporcao.merge(\n",
    "    total_por_produto.reset_index(), on='product_id'\n",
    ")\n",
    "proporcao_filtrada = proporcao_filtrada[proporcao_filtrada['reordered'] >= 50]\n",
    "\n",
    "\n",
    "top_recomprados = proporcao_filtrada.sort_values(by='proporcao_repetida', ascending=False).head(20)\n",
    "\n",
    "# Gráfico\n",
    "plt.figure(figsize=(12, 6))\n",
    "sns.barplot(\n",
    "    x='proporcao_repetida',\n",
    "    y='product_name',\n",
    "    data=top_recomprados,\n",
    "    palette='viridis'\n",
    ")\n",
    "plt.title('Top 20 Produtos com Maior Proporção de Recompra (com mais de 50 compras)')\n",
    "plt.xlabel('Proporção de Repetição')\n",
    "plt.ylabel('Produto')\n",
    "plt.xlim(0, 1)\n",
    "plt.tight_layout()\n",
    "plt.show()\n"
   ]
  },
  {
   "cell_type": "markdown",
   "id": "be3ee7e7",
   "metadata": {},
   "source": [
    "bebidas estao no top, agua,leite, iorgute tem recompra boa , produto como organic whole milk, yerba mate sparkling tem otima regularidade tbm.."
   ]
  },
  {
   "cell_type": "markdown",
   "id": "I10dEIAyldcO",
   "metadata": {
    "id": "I10dEIAyldcO"
   },
   "source": [
    "Escreva suas conclusões aqui"
   ]
  },
  {
   "cell_type": "markdown",
   "id": "subject-boxing",
   "metadata": {
    "id": "subject-boxing"
   },
   "source": [
    "### [C4] Para cada cliente, qual proporção de todos os seus pedidos são repetidos?"
   ]
  },
  {
   "cell_type": "code",
   "execution_count": 45,
   "id": "medical-couple",
   "metadata": {
    "id": "medical-couple",
    "scrolled": true
   },
   "outputs": [
    {
     "name": "stdout",
     "output_type": "stream",
     "text": [
      "   user_id  proporcao_repetida\n",
      "0        2            0.038462\n",
      "1        4            0.000000\n",
      "2        5            0.666667\n",
      "3        6            0.000000\n",
      "4        7            0.928571\n"
     ]
    },
    {
     "data": {
      "image/png": "[encoded data removed]",
      "text/plain": [
       "<Figure size 1000x500 with 1 Axes>"
      ]
     },
     "metadata": {},
     "output_type": "display_data"
    }
   ],
   "source": [
    "# Juntar pedidos com user_id\n",
    "df = df_orders_products.merge(df_inscart_orders[['order_id', 'user_id']], on='order_id')\n",
    "\n",
    "# Agrupar por cliente\n",
    "total_por_cliente = df.groupby('user_id')['reordered'].count()\n",
    "repeticoes_por_cliente = df.groupby('user_id')['reordered'].sum()\n",
    "\n",
    "proporcao_clientes = (repeticoes_por_cliente / total_por_cliente).reset_index()\n",
    "proporcao_clientes.columns = ['user_id', 'proporcao_repetida']\n",
    "\n",
    "print(proporcao_clientes.head())\n",
    "\n",
    "plt.figure(figsize=(10, 5))\n",
    "sns.histplot(proporcao_clientes['proporcao_repetida'], bins=30, kde=False, color='skyblue')\n",
    "plt.title('Distribuição da Proporção de Recompras por Cliente')\n",
    "plt.xlabel('Proporção de Pedidos Repetidos')\n",
    "plt.ylabel('Número de Clientes')\n",
    "plt.show()\n"
   ]
  },
  {
   "cell_type": "markdown",
   "id": "8171278e",
   "metadata": {},
   "source": [
    "tem um pessoal muito fiel, com proporção de recompra de 1.0 e tem gente que nunca repete um produto. da pra investir tanto em novos produtos e tanto em manter o que ja estao sempre em mao"
   ]
  },
  {
   "cell_type": "markdown",
   "id": "92d35137",
   "metadata": {
    "id": "92d35137"
   },
   "source": [
    "### [C5] Quais são os 20 principais itens que as pessoas colocam nos carrinhos antes de todos os outros?"
   ]
  },
  {
   "cell_type": "code",
   "execution_count": 46,
   "id": "0ae57274",
   "metadata": {
    "id": "0ae57274",
    "scrolled": true
   },
   "outputs": [
    {
     "name": "stdout",
     "output_type": "stream",
     "text": [
      "    product_id                 product_name  vezes_como_primeiro\n",
      "0        24852                       Banana                15562\n",
      "1        13176       Bag of Organic Bananas                11026\n",
      "2        27845           Organic Whole Milk                 4363\n",
      "3        21137         Organic Strawberries                 3946\n",
      "4        47209         Organic Hass Avocado                 3390\n",
      "5        21903         Organic Baby Spinach                 3336\n",
      "6        47766              Organic Avocado                 3044\n",
      "7        19660                 Spring Water                 2336\n",
      "8        16797                 Strawberries                 2308\n",
      "9        27966          Organic Raspberries                 2024\n",
      "10       44632   Sparkling Water Grapefruit                 1914\n",
      "11       49235          Organic Half & Half                 1797\n",
      "12       47626                  Large Lemon                 1737\n",
      "13         196                         Soda                 1733\n",
      "14       38689     Organic Reduced Fat Milk                 1397\n",
      "15       26209                        Limes                 1370\n",
      "16       12341                Hass Avocados                 1340\n",
      "17        5785  Organic Reduced Fat 2% Milk                 1310\n",
      "18       27086                  Half & Half                 1309\n",
      "19       22935         Organic Yellow Onion                 1246\n"
     ]
    },
    {
     "name": "stderr",
     "output_type": "stream",
     "text": [
      "C:\\Users\\Doit\\AppData\\Local\\Temp\\ipykernel_27144\\3022744113.py:14: FutureWarning: \n",
      "\n",
      "Passing `palette` without assigning `hue` is deprecated and will be removed in v0.14.0. Assign the `y` variable to `hue` and set `legend=False` for the same effect.\n",
      "\n",
      "  sns.barplot(\n"
     ]
    },
    {
     "data": {
      "image/png": "[encoded data removed]",
      "text/plain": [
       "<Figure size 1200x600 with 1 Axes>"
      ]
     },
     "metadata": {},
     "output_type": "display_data"
    }
   ],
   "source": [
    "# Filtrar os produtos que foram o primeiro a entrar no carrinho\n",
    "primeiros = df_orders_products[df_orders_products['add_to_cart_order'] == 1]\n",
    "\n",
    "# Contar os mais comuns\n",
    "top_primeiros = primeiros['product_id'].value_counts().head(20).reset_index()\n",
    "top_primeiros.columns = ['product_id', 'vezes_como_primeiro']\n",
    "\n",
    "# Juntar com nome\n",
    "top_primeiros = top_primeiros.merge(df_products[['product_id', 'product_name']], on='product_id')\n",
    "\n",
    "print(top_primeiros[['product_id', 'product_name', 'vezes_como_primeiro']])\n",
    "\n",
    "plt.figure(figsize=(12, 6))\n",
    "sns.barplot(\n",
    "    x='vezes_como_primeiro',\n",
    "    y='product_name',\n",
    "    data=top_primeiros,\n",
    "    palette='crest'\n",
    ")\n",
    "plt.title('Top 20 Produtos Adicionados Primeiro no Carrinho')\n",
    "plt.xlabel('Número de Vezes como Primeiro Item')\n",
    "plt.ylabel('Produto')\n",
    "plt.tight_layout()\n",
    "plt.show()\n"
   ]
  },
  {
   "cell_type": "markdown",
   "id": "c9f1a7fd",
   "metadata": {},
   "source": [
    "Banana seguindo forte em vendas. haha XD"
   ]
  },
  {
   "cell_type": "markdown",
   "id": "28ce9872",
   "metadata": {
    "id": "28ce9872"
   },
   "source": [
    "Escreva suas conclusões aqui"
   ]
  },
  {
   "cell_type": "markdown",
   "id": "TisH_5Cp3wAi",
   "metadata": {
    "id": "TisH_5Cp3wAi"
   },
   "source": [
    "# Conclusão geral do projeto:"
   ]
  },
  {
   "cell_type": "markdown",
   "id": "3785e9f4",
   "metadata": {},
   "source": [
    "Ao longo da análise, foi possível entender com mais profundidade o comportamento dos clientes da plataforma Instacart em relação às suas compras. Exploramos desde os produtos mais vendidos até os hábitos de recompra e as preferências de ordem no carrinho. Com base nisso, tiramos alguns aprendizados importantes.\n",
    "\n",
    "🔎 Principais descobertas (prós):\n",
    "Produtos frescos e orgânicos como banana, leite e morango lideram tanto em vendas quanto em recompra, o que mostra uma forte preferência dos clientes por itens saudáveis e básicos.\n",
    "\n",
    "Muitos clientes têm comportamento recorrente, com vários apresentando alta proporção de pedidos repetidos — isso sugere fidelidade a certos produtos e abre espaço para ações de recomendação personalizada.\n",
    "\n",
    "Os itens adicionados primeiro no carrinho também tendem a ser os mais vendidos e mais repetidos, reforçando a ideia de que são essenciais no dia a dia dos usuários.\n",
    "\n",
    "A base de dados, mesmo com valores ausentes e duplicados incluídos intencionalmente, permitiu observar padrões claros de comportamento.\n",
    "\n",
    "⚠️ Limitações e desafios (contras):\n",
    "Alguns produtos com pouca quantidade de vendas apresentaram proporções de recompra elevadas, o que pode distorcer a análise se não houver filtragem por volume mínimo.\n",
    "\n",
    "A ausência de informações como categoria de cliente, tempo entre pedidos ou valor da compra limitou a construção de perfis mais completos.\n",
    "\n",
    "A presença de dados \"missing\" ou \"unknown\" (intencional) exigiu cuidados extras em cada etapa para evitar conclusões enviesadas."
   ]
  },
  {
   "cell_type": "markdown",
   "id": "b66eac66",
   "metadata": {},
   "source": []
  }
 ],
 "metadata": {
  "colab": {
   "provenance": []
  },
  "kernelspec": {
   "display_name": "venv",
   "language": "python",
   "name": "python3"
  },
  "language_info": {
   "codemirror_mode": {
    "name": "ipython",
    "version": 3
   },
   "file_extension": ".py",
   "mimetype": "text/x-python",
   "name": "python",
   "nbconvert_exporter": "python",
   "pygments_lexer": "ipython3",
   "version": "3.13.3"
  }
 },
 "nbformat": 4,
 "nbformat_minor": 5
}
